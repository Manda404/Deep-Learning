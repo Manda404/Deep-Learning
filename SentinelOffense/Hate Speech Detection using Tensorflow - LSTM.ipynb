{
 "cells": [
  {
   "cell_type": "markdown",
   "metadata": {},
   "source": [
    "<h1 align=\"center\" style=\"color:#00529b;\">Hate Speech Detection Using LSTM - Data Analysis & Prediction </h1>\n",
    "<h2 align=\"center\" style=\"color:#00529b;\">ECE - École d'Ingénieurs Campus Lyon</h2>\n",
    "<h3 align=\"center\" style=\"color:#007acc;\">Projet Machine Learning & Deep Learning, A.A. 2023/2024</h3>\n",
    "\n",
    "---\n",
    "\n",
    "## Project Objective\n",
    "\n",
    "1. Utilize a dataset comprising Twitter data for the purpose of hate-speech detection.\n",
    "   \n",
    "2. Implement classification of text into categories: hate-speech, offensive language, and neither.\n",
    "   \n",
    "3. Highlight the significance of the dataset's content, which may include text classified as racist, sexist, homophobic, or generally offensive, crucial for the study's context.\n",
    "\n",
    "\n"
   ]
  },
  {
   "cell_type": "code",
   "execution_count": 1,
   "metadata": {},
   "outputs": [],
   "source": [
    "import os\n",
    "import re\n",
    "import string\n",
    "import numpy as np\n",
    "import pandas as pd\n",
    "import seaborn as sns\n",
    "import matplotlib as mpl\n",
    "import matplotlib.pyplot as plt\n",
    "from collections import Counter\n",
    "\n",
    "import plotly.express as px\n",
    "import plotly.graph_objects as go\n",
    "from plotly.subplots import make_subplots\n",
    "\n",
    "import sklearn\n",
    "from sklearn.model_selection import train_test_split\n",
    "from sklearn.metrics import classification_report\n",
    "\n",
    "import tensorflow as tf\n",
    "from tensorflow.keras import layers\n",
    "from tensorflow.keras import losses\n",
    "from tensorflow.keras import regularizers\n",
    "from tensorflow.keras import preprocessing\n",
    "from tensorflow.keras.preprocessing.text import Tokenizer\n",
    "from tensorflow.keras.preprocessing.sequence import pad_sequences\n",
    "\n",
    "import warnings\n",
    "warnings.filterwarnings('ignore')\n"
   ]
  },
  {
   "cell_type": "markdown",
   "metadata": {},
   "source": [
    "## <div style=\"text-align: left; background-color:aliceblue ; font-family: Jokerman; color: black; padding: 15px; line-height:1;border-radius:1px; margin-bottom: 0em; text-align: center; font-size: 25px;border-style: solid;border-color: dark green;\">  Chargement du jeu de données </div> "
   ]
  },
  {
   "cell_type": "code",
   "execution_count": 2,
   "metadata": {},
   "outputs": [
    {
     "name": "stdout",
     "output_type": "stream",
     "text": [
      "Les données en entrée ont 24783 lignes et 8 colonnes\n"
     ]
    },
    {
     "data": {
      "text/html": [
       "<div>\n",
       "<style scoped>\n",
       "    .dataframe tbody tr th:only-of-type {\n",
       "        vertical-align: middle;\n",
       "    }\n",
       "\n",
       "    .dataframe tbody tr th {\n",
       "        vertical-align: top;\n",
       "    }\n",
       "\n",
       "    .dataframe thead th {\n",
       "        text-align: right;\n",
       "    }\n",
       "</style>\n",
       "<table border=\"1\" class=\"dataframe\">\n",
       "  <thead>\n",
       "    <tr style=\"text-align: right;\">\n",
       "      <th></th>\n",
       "      <th>id</th>\n",
       "      <th>count</th>\n",
       "      <th>hate_speech</th>\n",
       "      <th>offensive_language</th>\n",
       "      <th>neither</th>\n",
       "      <th>class</th>\n",
       "      <th>tweet</th>\n",
       "      <th>sentiment</th>\n",
       "    </tr>\n",
       "  </thead>\n",
       "  <tbody>\n",
       "    <tr>\n",
       "      <th>0</th>\n",
       "      <td>0</td>\n",
       "      <td>3</td>\n",
       "      <td>0</td>\n",
       "      <td>0</td>\n",
       "      <td>3</td>\n",
       "      <td>2</td>\n",
       "      <td>!!! RT @mayasolovely: As a woman you shouldn't...</td>\n",
       "      <td>neither</td>\n",
       "    </tr>\n",
       "    <tr>\n",
       "      <th>1</th>\n",
       "      <td>1</td>\n",
       "      <td>3</td>\n",
       "      <td>0</td>\n",
       "      <td>3</td>\n",
       "      <td>0</td>\n",
       "      <td>1</td>\n",
       "      <td>!!!!! RT @mleew17: boy dats cold...tyga dwn ba...</td>\n",
       "      <td>offensive language</td>\n",
       "    </tr>\n",
       "    <tr>\n",
       "      <th>2</th>\n",
       "      <td>2</td>\n",
       "      <td>3</td>\n",
       "      <td>0</td>\n",
       "      <td>3</td>\n",
       "      <td>0</td>\n",
       "      <td>1</td>\n",
       "      <td>!!!!!!! RT @UrKindOfBrand Dawg!!!! RT @80sbaby...</td>\n",
       "      <td>offensive language</td>\n",
       "    </tr>\n",
       "    <tr>\n",
       "      <th>3</th>\n",
       "      <td>3</td>\n",
       "      <td>3</td>\n",
       "      <td>0</td>\n",
       "      <td>2</td>\n",
       "      <td>1</td>\n",
       "      <td>1</td>\n",
       "      <td>!!!!!!!!! RT @C_G_Anderson: @viva_based she lo...</td>\n",
       "      <td>offensive language</td>\n",
       "    </tr>\n",
       "    <tr>\n",
       "      <th>4</th>\n",
       "      <td>4</td>\n",
       "      <td>6</td>\n",
       "      <td>0</td>\n",
       "      <td>6</td>\n",
       "      <td>0</td>\n",
       "      <td>1</td>\n",
       "      <td>!!!!!!!!!!!!! RT @ShenikaRoberts: The shit you...</td>\n",
       "      <td>offensive language</td>\n",
       "    </tr>\n",
       "  </tbody>\n",
       "</table>\n",
       "</div>"
      ],
      "text/plain": [
       "   id  count  hate_speech  offensive_language  neither  class  \\\n",
       "0   0      3            0                   0        3      2   \n",
       "1   1      3            0                   3        0      1   \n",
       "2   2      3            0                   3        0      1   \n",
       "3   3      3            0                   2        1      1   \n",
       "4   4      6            0                   6        0      1   \n",
       "\n",
       "                                               tweet           sentiment  \n",
       "0  !!! RT @mayasolovely: As a woman you shouldn't...             neither  \n",
       "1  !!!!! RT @mleew17: boy dats cold...tyga dwn ba...  offensive language  \n",
       "2  !!!!!!! RT @UrKindOfBrand Dawg!!!! RT @80sbaby...  offensive language  \n",
       "3  !!!!!!!!! RT @C_G_Anderson: @viva_based she lo...  offensive language  \n",
       "4  !!!!!!!!!!!!! RT @ShenikaRoberts: The shit you...  offensive language  "
      ]
     },
     "metadata": {},
     "output_type": "display_data"
    }
   ],
   "source": [
    "def load_data(file_path):\n",
    "    \"\"\"\n",
    "    Charge les données à partir du fichier CSV spécifié.\n",
    "    \n",
    "    Args:\n",
    "    file_path (str): Chemin du fichier CSV.\n",
    "    \n",
    "    Returns:\n",
    "    pandas.DataFrame: Les données chargées à partir du fichier CSV.\n",
    "    \"\"\"\n",
    "    data = pd.read_csv(file_path, sep=',')\n",
    "    # Renommer la première colonne en \"id\"\n",
    "    data = data.rename(columns={\"Unnamed: 0\": \"id\"})\n",
    "    data.reset_index(drop=True, inplace=True)\n",
    "    data.sort_index(axis=0, inplace=True)\n",
    "    return data\n",
    "\n",
    "# Chemin vers le fichier CSV\n",
    "path = \"/Users/surelmanda/Downloads/AirGUARD/NLP-Hate-Speech-Detection/train.csv\"\n",
    "\n",
    "# Charger les données à partir du fichier spécifié\n",
    "data = load_data(path)\n",
    "\n",
    "# Créer un dictionnaire de correspondance pour les étiquettes de classe\n",
    "class_labels = {\n",
    "    0: 'hate speech',\n",
    "    1: 'offensive language',\n",
    "    2: 'neither'\n",
    "}\n",
    "\n",
    "# Ajouter une colonne de sentiment en remplaçant les valeurs de la colonne 'class' par les libellés correspondants\n",
    "data['sentiment'] = data['class'].replace(class_labels)\n",
    "\n",
    "# Afficher la forme de l'ensemble de données\n",
    "print(\"Les données en entrée ont {} lignes et {} colonnes\".format(data.shape[0], data.shape[1]))\n",
    "\n",
    "# Afficher quelque lignes de l'ensemble de données:\n",
    "display(data.head())"
   ]
  },
  {
   "cell_type": "markdown",
   "metadata": {},
   "source": [
    "## <div style=\"text-align: left; background-color:aliceblue ; font-family: Jokerman; color: black; padding: 15px; line-height:1;border-radius:1px; margin-bottom: 0em; text-align: center; font-size: 25px;border-style: solid;border-color: dark green;\"> Analyse du dataset </div> "
   ]
  },
  {
   "cell_type": "code",
   "execution_count": 3,
   "metadata": {},
   "outputs": [],
   "source": [
    "def resume_inspection_colonnes(data_frame):\n",
    "    \"\"\"\n",
    "    Une fonction utilitaire qui fournit un résumé plus complet des colonnes du dataframe\n",
    "    que les méthodes intégrées df.info() et df.describe().\n",
    "    \"\"\"\n",
    "    \n",
    "    total_lignes = len(data_frame)\n",
    "    resume = pd.DataFrame({\n",
    "        'Total Lignes': [total_lignes] * data_frame.shape[1],  # Nombre total de lignes dans le dataframe\n",
    "        'Lignes avec Valeurs Manquantes': data_frame.isnull().sum(),  # Nombre de lignes avec des valeurs manquantes\n",
    "        'Toutes les Valeurs Uniques': data_frame.nunique() == total_lignes,  # Vérifie si toutes les valeurs sont uniques dans chaque colonne\n",
    "        'Cardinalité': data_frame.nunique(),  # Nombre de valeurs uniques dans chaque colonne\n",
    "        'Contient des Valeurs Null': data_frame.isna().any(),  # Indique si la colonne contient des valeurs nulles\n",
    "        'Pourcentage de Null': round((data_frame.isnull().sum() / total_lignes) * 100, 2),  # Pourcentage de valeurs nulles par rapport au total des lignes\n",
    "        'Types de Données': data_frame.dtypes,  # Types de données de chaque colonne\n",
    "        'Spécimens': data_frame.sample(2).T.values.tolist()  # Échantillons aléatoires de 5 lignes pour donner un aperçu des données\n",
    "    })\n",
    "\n",
    "    return resume\n"
   ]
  },
  {
   "cell_type": "code",
   "execution_count": 4,
   "metadata": {},
   "outputs": [
    {
     "data": {
      "text/html": [
       "<div>\n",
       "<style scoped>\n",
       "    .dataframe tbody tr th:only-of-type {\n",
       "        vertical-align: middle;\n",
       "    }\n",
       "\n",
       "    .dataframe tbody tr th {\n",
       "        vertical-align: top;\n",
       "    }\n",
       "\n",
       "    .dataframe thead th {\n",
       "        text-align: right;\n",
       "    }\n",
       "</style>\n",
       "<table border=\"1\" class=\"dataframe\">\n",
       "  <thead>\n",
       "    <tr style=\"text-align: right;\">\n",
       "      <th></th>\n",
       "      <th>Total Lignes</th>\n",
       "      <th>Lignes avec Valeurs Manquantes</th>\n",
       "      <th>Toutes les Valeurs Uniques</th>\n",
       "      <th>Cardinalité</th>\n",
       "      <th>Contient des Valeurs Null</th>\n",
       "      <th>Pourcentage de Null</th>\n",
       "      <th>Types de Données</th>\n",
       "      <th>Spécimens</th>\n",
       "    </tr>\n",
       "  </thead>\n",
       "  <tbody>\n",
       "    <tr>\n",
       "      <th>id</th>\n",
       "      <td>24783</td>\n",
       "      <td>0</td>\n",
       "      <td>True</td>\n",
       "      <td>24783</td>\n",
       "      <td>False</td>\n",
       "      <td>0.0</td>\n",
       "      <td>int64</td>\n",
       "      <td>[18635, 15500]</td>\n",
       "    </tr>\n",
       "    <tr>\n",
       "      <th>count</th>\n",
       "      <td>24783</td>\n",
       "      <td>0</td>\n",
       "      <td>False</td>\n",
       "      <td>5</td>\n",
       "      <td>False</td>\n",
       "      <td>0.0</td>\n",
       "      <td>int64</td>\n",
       "      <td>[3, 3]</td>\n",
       "    </tr>\n",
       "    <tr>\n",
       "      <th>hate_speech</th>\n",
       "      <td>24783</td>\n",
       "      <td>0</td>\n",
       "      <td>False</td>\n",
       "      <td>8</td>\n",
       "      <td>False</td>\n",
       "      <td>0.0</td>\n",
       "      <td>int64</td>\n",
       "      <td>[0, 0]</td>\n",
       "    </tr>\n",
       "    <tr>\n",
       "      <th>offensive_language</th>\n",
       "      <td>24783</td>\n",
       "      <td>0</td>\n",
       "      <td>False</td>\n",
       "      <td>10</td>\n",
       "      <td>False</td>\n",
       "      <td>0.0</td>\n",
       "      <td>int64</td>\n",
       "      <td>[3, 3]</td>\n",
       "    </tr>\n",
       "    <tr>\n",
       "      <th>neither</th>\n",
       "      <td>24783</td>\n",
       "      <td>0</td>\n",
       "      <td>False</td>\n",
       "      <td>10</td>\n",
       "      <td>False</td>\n",
       "      <td>0.0</td>\n",
       "      <td>int64</td>\n",
       "      <td>[0, 0]</td>\n",
       "    </tr>\n",
       "    <tr>\n",
       "      <th>class</th>\n",
       "      <td>24783</td>\n",
       "      <td>0</td>\n",
       "      <td>False</td>\n",
       "      <td>3</td>\n",
       "      <td>False</td>\n",
       "      <td>0.0</td>\n",
       "      <td>int64</td>\n",
       "      <td>[1, 1]</td>\n",
       "    </tr>\n",
       "    <tr>\n",
       "      <th>tweet</th>\n",
       "      <td>24783</td>\n",
       "      <td>0</td>\n",
       "      <td>True</td>\n",
       "      <td>24783</td>\n",
       "      <td>False</td>\n",
       "      <td>0.0</td>\n",
       "      <td>object</td>\n",
       "      <td>[RT @ZitlalyL: @Vic_Manzan0 just like you&amp;#128...</td>\n",
       "    </tr>\n",
       "    <tr>\n",
       "      <th>sentiment</th>\n",
       "      <td>24783</td>\n",
       "      <td>0</td>\n",
       "      <td>False</td>\n",
       "      <td>3</td>\n",
       "      <td>False</td>\n",
       "      <td>0.0</td>\n",
       "      <td>object</td>\n",
       "      <td>[offensive language, offensive language]</td>\n",
       "    </tr>\n",
       "  </tbody>\n",
       "</table>\n",
       "</div>"
      ],
      "text/plain": [
       "                    Total Lignes  Lignes avec Valeurs Manquantes  \\\n",
       "id                         24783                               0   \n",
       "count                      24783                               0   \n",
       "hate_speech                24783                               0   \n",
       "offensive_language         24783                               0   \n",
       "neither                    24783                               0   \n",
       "class                      24783                               0   \n",
       "tweet                      24783                               0   \n",
       "sentiment                  24783                               0   \n",
       "\n",
       "                    Toutes les Valeurs Uniques  Cardinalité  \\\n",
       "id                                        True        24783   \n",
       "count                                    False            5   \n",
       "hate_speech                              False            8   \n",
       "offensive_language                       False           10   \n",
       "neither                                  False           10   \n",
       "class                                    False            3   \n",
       "tweet                                     True        24783   \n",
       "sentiment                                False            3   \n",
       "\n",
       "                    Contient des Valeurs Null  Pourcentage de Null  \\\n",
       "id                                      False                  0.0   \n",
       "count                                   False                  0.0   \n",
       "hate_speech                             False                  0.0   \n",
       "offensive_language                      False                  0.0   \n",
       "neither                                 False                  0.0   \n",
       "class                                   False                  0.0   \n",
       "tweet                                   False                  0.0   \n",
       "sentiment                               False                  0.0   \n",
       "\n",
       "                   Types de Données  \\\n",
       "id                            int64   \n",
       "count                         int64   \n",
       "hate_speech                   int64   \n",
       "offensive_language            int64   \n",
       "neither                       int64   \n",
       "class                         int64   \n",
       "tweet                        object   \n",
       "sentiment                    object   \n",
       "\n",
       "                                                            Spécimens  \n",
       "id                                                     [18635, 15500]  \n",
       "count                                                          [3, 3]  \n",
       "hate_speech                                                    [0, 0]  \n",
       "offensive_language                                             [3, 3]  \n",
       "neither                                                        [0, 0]  \n",
       "class                                                          [1, 1]  \n",
       "tweet               [RT @ZitlalyL: @Vic_Manzan0 just like you&#128...  \n",
       "sentiment                    [offensive language, offensive language]  "
      ]
     },
     "metadata": {},
     "output_type": "display_data"
    }
   ],
   "source": [
    "resultat_summary = resume_inspection_colonnes(data)\n",
    "display(resultat_summary)"
   ]
  },
  {
   "cell_type": "code",
   "execution_count": 5,
   "metadata": {},
   "outputs": [
    {
     "data": {
      "application/vnd.plotly.v1+json": {
       "config": {
        "plotlyServerURL": "https://plot.ly"
       },
       "data": [
        {
         "domain": {
          "x": [
           0,
           0.45
          ],
          "y": [
           0,
           1
          ]
         },
         "labels": [
          1,
          2,
          0
         ],
         "marker": {
          "colors": [
           "#636EFA",
           "#EF553B",
           "#00CC96",
           "#AB63FA",
           "#FFA15A",
           "#19D3F3",
           "#FF6692",
           "#B6E880",
           "#FF97FF",
           "#FECB52"
          ]
         },
         "name": "",
         "type": "pie",
         "values": [
          77.43211072105879,
          16.797804946939436,
          5.770084332001776
         ]
        },
        {
         "marker": {
          "color": [
           "#636EFA",
           "#EF553B",
           "#00CC96",
           "#AB63FA",
           "#FFA15A",
           "#19D3F3",
           "#FF6692",
           "#B6E880",
           "#FF97FF",
           "#FECB52"
          ]
         },
         "name": "",
         "type": "bar",
         "x": [
          1,
          2,
          0
         ],
         "xaxis": "x",
         "y": [
          77.43211072105879,
          16.797804946939436,
          5.770084332001776
         ],
         "yaxis": "y"
        }
       ],
       "layout": {
        "annotations": [
         {
          "font": {
           "size": 16
          },
          "showarrow": false,
          "text": "Diagramme circulaire",
          "x": 0.225,
          "xanchor": "center",
          "xref": "paper",
          "y": 1,
          "yanchor": "bottom",
          "yref": "paper"
         },
         {
          "font": {
           "size": 16
          },
          "showarrow": false,
          "text": "Histogramme",
          "x": 0.775,
          "xanchor": "center",
          "xref": "paper",
          "y": 1,
          "yanchor": "bottom",
          "yref": "paper"
         }
        ],
        "template": {
         "data": {
          "bar": [
           {
            "error_x": {
             "color": "#2a3f5f"
            },
            "error_y": {
             "color": "#2a3f5f"
            },
            "marker": {
             "line": {
              "color": "#E5ECF6",
              "width": 0.5
             },
             "pattern": {
              "fillmode": "overlay",
              "size": 10,
              "solidity": 0.2
             }
            },
            "type": "bar"
           }
          ],
          "barpolar": [
           {
            "marker": {
             "line": {
              "color": "#E5ECF6",
              "width": 0.5
             },
             "pattern": {
              "fillmode": "overlay",
              "size": 10,
              "solidity": 0.2
             }
            },
            "type": "barpolar"
           }
          ],
          "carpet": [
           {
            "aaxis": {
             "endlinecolor": "#2a3f5f",
             "gridcolor": "white",
             "linecolor": "white",
             "minorgridcolor": "white",
             "startlinecolor": "#2a3f5f"
            },
            "baxis": {
             "endlinecolor": "#2a3f5f",
             "gridcolor": "white",
             "linecolor": "white",
             "minorgridcolor": "white",
             "startlinecolor": "#2a3f5f"
            },
            "type": "carpet"
           }
          ],
          "choropleth": [
           {
            "colorbar": {
             "outlinewidth": 0,
             "ticks": ""
            },
            "type": "choropleth"
           }
          ],
          "contour": [
           {
            "colorbar": {
             "outlinewidth": 0,
             "ticks": ""
            },
            "colorscale": [
             [
              0,
              "#0d0887"
             ],
             [
              0.1111111111111111,
              "#46039f"
             ],
             [
              0.2222222222222222,
              "#7201a8"
             ],
             [
              0.3333333333333333,
              "#9c179e"
             ],
             [
              0.4444444444444444,
              "#bd3786"
             ],
             [
              0.5555555555555556,
              "#d8576b"
             ],
             [
              0.6666666666666666,
              "#ed7953"
             ],
             [
              0.7777777777777778,
              "#fb9f3a"
             ],
             [
              0.8888888888888888,
              "#fdca26"
             ],
             [
              1,
              "#f0f921"
             ]
            ],
            "type": "contour"
           }
          ],
          "contourcarpet": [
           {
            "colorbar": {
             "outlinewidth": 0,
             "ticks": ""
            },
            "type": "contourcarpet"
           }
          ],
          "heatmap": [
           {
            "colorbar": {
             "outlinewidth": 0,
             "ticks": ""
            },
            "colorscale": [
             [
              0,
              "#0d0887"
             ],
             [
              0.1111111111111111,
              "#46039f"
             ],
             [
              0.2222222222222222,
              "#7201a8"
             ],
             [
              0.3333333333333333,
              "#9c179e"
             ],
             [
              0.4444444444444444,
              "#bd3786"
             ],
             [
              0.5555555555555556,
              "#d8576b"
             ],
             [
              0.6666666666666666,
              "#ed7953"
             ],
             [
              0.7777777777777778,
              "#fb9f3a"
             ],
             [
              0.8888888888888888,
              "#fdca26"
             ],
             [
              1,
              "#f0f921"
             ]
            ],
            "type": "heatmap"
           }
          ],
          "heatmapgl": [
           {
            "colorbar": {
             "outlinewidth": 0,
             "ticks": ""
            },
            "colorscale": [
             [
              0,
              "#0d0887"
             ],
             [
              0.1111111111111111,
              "#46039f"
             ],
             [
              0.2222222222222222,
              "#7201a8"
             ],
             [
              0.3333333333333333,
              "#9c179e"
             ],
             [
              0.4444444444444444,
              "#bd3786"
             ],
             [
              0.5555555555555556,
              "#d8576b"
             ],
             [
              0.6666666666666666,
              "#ed7953"
             ],
             [
              0.7777777777777778,
              "#fb9f3a"
             ],
             [
              0.8888888888888888,
              "#fdca26"
             ],
             [
              1,
              "#f0f921"
             ]
            ],
            "type": "heatmapgl"
           }
          ],
          "histogram": [
           {
            "marker": {
             "pattern": {
              "fillmode": "overlay",
              "size": 10,
              "solidity": 0.2
             }
            },
            "type": "histogram"
           }
          ],
          "histogram2d": [
           {
            "colorbar": {
             "outlinewidth": 0,
             "ticks": ""
            },
            "colorscale": [
             [
              0,
              "#0d0887"
             ],
             [
              0.1111111111111111,
              "#46039f"
             ],
             [
              0.2222222222222222,
              "#7201a8"
             ],
             [
              0.3333333333333333,
              "#9c179e"
             ],
             [
              0.4444444444444444,
              "#bd3786"
             ],
             [
              0.5555555555555556,
              "#d8576b"
             ],
             [
              0.6666666666666666,
              "#ed7953"
             ],
             [
              0.7777777777777778,
              "#fb9f3a"
             ],
             [
              0.8888888888888888,
              "#fdca26"
             ],
             [
              1,
              "#f0f921"
             ]
            ],
            "type": "histogram2d"
           }
          ],
          "histogram2dcontour": [
           {
            "colorbar": {
             "outlinewidth": 0,
             "ticks": ""
            },
            "colorscale": [
             [
              0,
              "#0d0887"
             ],
             [
              0.1111111111111111,
              "#46039f"
             ],
             [
              0.2222222222222222,
              "#7201a8"
             ],
             [
              0.3333333333333333,
              "#9c179e"
             ],
             [
              0.4444444444444444,
              "#bd3786"
             ],
             [
              0.5555555555555556,
              "#d8576b"
             ],
             [
              0.6666666666666666,
              "#ed7953"
             ],
             [
              0.7777777777777778,
              "#fb9f3a"
             ],
             [
              0.8888888888888888,
              "#fdca26"
             ],
             [
              1,
              "#f0f921"
             ]
            ],
            "type": "histogram2dcontour"
           }
          ],
          "mesh3d": [
           {
            "colorbar": {
             "outlinewidth": 0,
             "ticks": ""
            },
            "type": "mesh3d"
           }
          ],
          "parcoords": [
           {
            "line": {
             "colorbar": {
              "outlinewidth": 0,
              "ticks": ""
             }
            },
            "type": "parcoords"
           }
          ],
          "pie": [
           {
            "automargin": true,
            "type": "pie"
           }
          ],
          "scatter": [
           {
            "fillpattern": {
             "fillmode": "overlay",
             "size": 10,
             "solidity": 0.2
            },
            "type": "scatter"
           }
          ],
          "scatter3d": [
           {
            "line": {
             "colorbar": {
              "outlinewidth": 0,
              "ticks": ""
             }
            },
            "marker": {
             "colorbar": {
              "outlinewidth": 0,
              "ticks": ""
             }
            },
            "type": "scatter3d"
           }
          ],
          "scattercarpet": [
           {
            "marker": {
             "colorbar": {
              "outlinewidth": 0,
              "ticks": ""
             }
            },
            "type": "scattercarpet"
           }
          ],
          "scattergeo": [
           {
            "marker": {
             "colorbar": {
              "outlinewidth": 0,
              "ticks": ""
             }
            },
            "type": "scattergeo"
           }
          ],
          "scattergl": [
           {
            "marker": {
             "colorbar": {
              "outlinewidth": 0,
              "ticks": ""
             }
            },
            "type": "scattergl"
           }
          ],
          "scattermapbox": [
           {
            "marker": {
             "colorbar": {
              "outlinewidth": 0,
              "ticks": ""
             }
            },
            "type": "scattermapbox"
           }
          ],
          "scatterpolar": [
           {
            "marker": {
             "colorbar": {
              "outlinewidth": 0,
              "ticks": ""
             }
            },
            "type": "scatterpolar"
           }
          ],
          "scatterpolargl": [
           {
            "marker": {
             "colorbar": {
              "outlinewidth": 0,
              "ticks": ""
             }
            },
            "type": "scatterpolargl"
           }
          ],
          "scatterternary": [
           {
            "marker": {
             "colorbar": {
              "outlinewidth": 0,
              "ticks": ""
             }
            },
            "type": "scatterternary"
           }
          ],
          "surface": [
           {
            "colorbar": {
             "outlinewidth": 0,
             "ticks": ""
            },
            "colorscale": [
             [
              0,
              "#0d0887"
             ],
             [
              0.1111111111111111,
              "#46039f"
             ],
             [
              0.2222222222222222,
              "#7201a8"
             ],
             [
              0.3333333333333333,
              "#9c179e"
             ],
             [
              0.4444444444444444,
              "#bd3786"
             ],
             [
              0.5555555555555556,
              "#d8576b"
             ],
             [
              0.6666666666666666,
              "#ed7953"
             ],
             [
              0.7777777777777778,
              "#fb9f3a"
             ],
             [
              0.8888888888888888,
              "#fdca26"
             ],
             [
              1,
              "#f0f921"
             ]
            ],
            "type": "surface"
           }
          ],
          "table": [
           {
            "cells": {
             "fill": {
              "color": "#EBF0F8"
             },
             "line": {
              "color": "white"
             }
            },
            "header": {
             "fill": {
              "color": "#C8D4E3"
             },
             "line": {
              "color": "white"
             }
            },
            "type": "table"
           }
          ]
         },
         "layout": {
          "annotationdefaults": {
           "arrowcolor": "#2a3f5f",
           "arrowhead": 0,
           "arrowwidth": 1
          },
          "autotypenumbers": "strict",
          "coloraxis": {
           "colorbar": {
            "outlinewidth": 0,
            "ticks": ""
           }
          },
          "colorscale": {
           "diverging": [
            [
             0,
             "#8e0152"
            ],
            [
             0.1,
             "#c51b7d"
            ],
            [
             0.2,
             "#de77ae"
            ],
            [
             0.3,
             "#f1b6da"
            ],
            [
             0.4,
             "#fde0ef"
            ],
            [
             0.5,
             "#f7f7f7"
            ],
            [
             0.6,
             "#e6f5d0"
            ],
            [
             0.7,
             "#b8e186"
            ],
            [
             0.8,
             "#7fbc41"
            ],
            [
             0.9,
             "#4d9221"
            ],
            [
             1,
             "#276419"
            ]
           ],
           "sequential": [
            [
             0,
             "#0d0887"
            ],
            [
             0.1111111111111111,
             "#46039f"
            ],
            [
             0.2222222222222222,
             "#7201a8"
            ],
            [
             0.3333333333333333,
             "#9c179e"
            ],
            [
             0.4444444444444444,
             "#bd3786"
            ],
            [
             0.5555555555555556,
             "#d8576b"
            ],
            [
             0.6666666666666666,
             "#ed7953"
            ],
            [
             0.7777777777777778,
             "#fb9f3a"
            ],
            [
             0.8888888888888888,
             "#fdca26"
            ],
            [
             1,
             "#f0f921"
            ]
           ],
           "sequentialminus": [
            [
             0,
             "#0d0887"
            ],
            [
             0.1111111111111111,
             "#46039f"
            ],
            [
             0.2222222222222222,
             "#7201a8"
            ],
            [
             0.3333333333333333,
             "#9c179e"
            ],
            [
             0.4444444444444444,
             "#bd3786"
            ],
            [
             0.5555555555555556,
             "#d8576b"
            ],
            [
             0.6666666666666666,
             "#ed7953"
            ],
            [
             0.7777777777777778,
             "#fb9f3a"
            ],
            [
             0.8888888888888888,
             "#fdca26"
            ],
            [
             1,
             "#f0f921"
            ]
           ]
          },
          "colorway": [
           "#636efa",
           "#EF553B",
           "#00cc96",
           "#ab63fa",
           "#FFA15A",
           "#19d3f3",
           "#FF6692",
           "#B6E880",
           "#FF97FF",
           "#FECB52"
          ],
          "font": {
           "color": "#2a3f5f"
          },
          "geo": {
           "bgcolor": "white",
           "lakecolor": "white",
           "landcolor": "#E5ECF6",
           "showlakes": true,
           "showland": true,
           "subunitcolor": "white"
          },
          "hoverlabel": {
           "align": "left"
          },
          "hovermode": "closest",
          "mapbox": {
           "style": "light"
          },
          "paper_bgcolor": "white",
          "plot_bgcolor": "#E5ECF6",
          "polar": {
           "angularaxis": {
            "gridcolor": "white",
            "linecolor": "white",
            "ticks": ""
           },
           "bgcolor": "#E5ECF6",
           "radialaxis": {
            "gridcolor": "white",
            "linecolor": "white",
            "ticks": ""
           }
          },
          "scene": {
           "xaxis": {
            "backgroundcolor": "#E5ECF6",
            "gridcolor": "white",
            "gridwidth": 2,
            "linecolor": "white",
            "showbackground": true,
            "ticks": "",
            "zerolinecolor": "white"
           },
           "yaxis": {
            "backgroundcolor": "#E5ECF6",
            "gridcolor": "white",
            "gridwidth": 2,
            "linecolor": "white",
            "showbackground": true,
            "ticks": "",
            "zerolinecolor": "white"
           },
           "zaxis": {
            "backgroundcolor": "#E5ECF6",
            "gridcolor": "white",
            "gridwidth": 2,
            "linecolor": "white",
            "showbackground": true,
            "ticks": "",
            "zerolinecolor": "white"
           }
          },
          "shapedefaults": {
           "line": {
            "color": "#2a3f5f"
           }
          },
          "ternary": {
           "aaxis": {
            "gridcolor": "white",
            "linecolor": "white",
            "ticks": ""
           },
           "baxis": {
            "gridcolor": "white",
            "linecolor": "white",
            "ticks": ""
           },
           "bgcolor": "#E5ECF6",
           "caxis": {
            "gridcolor": "white",
            "linecolor": "white",
            "ticks": ""
           }
          },
          "title": {
           "x": 0.05
          },
          "xaxis": {
           "automargin": true,
           "gridcolor": "white",
           "linecolor": "white",
           "ticks": "",
           "title": {
            "standoff": 15
           },
           "zerolinecolor": "white",
           "zerolinewidth": 2
          },
          "yaxis": {
           "automargin": true,
           "gridcolor": "white",
           "linecolor": "white",
           "ticks": "",
           "title": {
            "standoff": 15
           },
           "zerolinecolor": "white",
           "zerolinewidth": 2
          }
         }
        },
        "title": {
         "text": "Pourcentage des sentiments (colonne cible)"
        },
        "xaxis": {
         "anchor": "y",
         "domain": [
          0.55,
          1
         ]
        },
        "yaxis": {
         "anchor": "x",
         "domain": [
          0,
          1
         ]
        }
       }
      }
     },
     "metadata": {},
     "output_type": "display_data"
    }
   ],
   "source": [
    "def visualiser_sentiments(dataset):\n",
    "    # Calculer les pourcentages de chaque valeur dans la colonne 'sentiment'\n",
    "    pourcentage_sentiment = dataset['class'].value_counts(normalize=True) * 100\n",
    "\n",
    "    # Créer un DataFrame pour la visualisation\n",
    "    data_pie = pd.DataFrame({\n",
    "        'Sentiment': pourcentage_sentiment.index,\n",
    "        'Pourcentage': pourcentage_sentiment.values\n",
    "    })\n",
    "\n",
    "    # Définir une palette de couleurs\n",
    "    colors = px.colors.qualitative.Plotly\n",
    "\n",
    "    # Créer les sous-tracés\n",
    "    fig = make_subplots(rows=1, cols=2, specs=[[{'type':'domain'}, {'type':'bar'}]], subplot_titles=['Diagramme circulaire', 'Histogramme'])\n",
    "\n",
    "    # Ajouter le diagramme circulaire\n",
    "    fig.add_trace(go.Pie(labels=data_pie['Sentiment'], values=data_pie['Pourcentage'], name='', marker=dict(colors=colors)), row=1, col=1)\n",
    "\n",
    "    # Ajouter l'histogramme\n",
    "    fig.add_trace(go.Bar(x=data_pie['Sentiment'], y=data_pie['Pourcentage'], name='', marker=dict(color=colors)), row=1, col=2)\n",
    "\n",
    "    # Mettre en forme la disposition des sous-tracés\n",
    "    fig.update_layout(title='Pourcentage des sentiments (colonne cible)')\n",
    "\n",
    "    # Afficher la figure\n",
    "    fig.show()\n",
    "\n",
    "# Utilisation de la fonction avec votre dataset\n",
    "visualiser_sentiments(data)\n"
   ]
  },
  {
   "cell_type": "markdown",
   "metadata": {},
   "source": [
    "## <div style=\"text-align: left; background-color:aliceblue ; font-family: Jokerman; color: black; padding: 15px; line-height:1;border-radius:1px; margin-bottom: 0em; text-align: center; font-size: 25px;border-style: solid;border-color: dark green;\">  preprocess train dataset tweet </div> "
   ]
  },
  {
   "cell_type": "code",
   "execution_count": 6,
   "metadata": {},
   "outputs": [],
   "source": [
    "import re\n",
    "import nltk\n",
    "\n",
    "def text_preprocessing(tweet):\n",
    "    # Defining regex patterns.\n",
    "    urlPattern        = r\"((http://)[^ ]*|(https://)[^ ]*|( www\\.)[^ ]*)\"\n",
    "    userPattern       = '@[^\\s]+'\n",
    "    alphaPattern      = \"[^a-zA-Z0-9]\"\n",
    "    sequencePattern   = r\"(.)\\1\\1+\"\n",
    "    seqReplacePattern = r\"\\1\\1\"\n",
    "    word_to_remove    = \"rt\"\n",
    "    emojiPattern      = re.compile(\"[\"\n",
    "                           u\"\\U0001F600-\\U0001F64F\"  # emoticons\n",
    "                           u\"\\U0001F300-\\U0001F5FF\"  # symbols & pictographs\n",
    "                           u\"\\U0001F680-\\U0001F6FF\"  # transport & map symbols\n",
    "                           u\"\\U0001F1E0-\\U0001F1FF\"  # flags (iOS)\n",
    "                           u\"\\U00002500-\\U00002BEF\"  # chinese char\n",
    "                           u\"\\U00002702-\\U000027B0\"\n",
    "                           u\"\\U00002702-\\U000027B0\"\n",
    "                           u\"\\U000024C2-\\U0001F251\"\n",
    "                           u\"\\U0001f926-\\U0001f937\"\n",
    "                           u\"\\U00010000-\\U0010ffff\"\n",
    "                           u\"\\u2640-\\u2642\"\n",
    "                           u\"\\u2600-\\u2B55\"\n",
    "                           u\"\\u200d\"\n",
    "                           u\"\\u23cf\"\n",
    "                           u\"\\u23e9\"\n",
    "                           u\"\\u231a\"\n",
    "                           u\"\\ufe0f\"  # dingbats\n",
    "                           u\"\\u3030\"\n",
    "                           \"]+\", re.UNICODE)\n",
    "    \n",
    "    # Make text lowercase, remove text in square brackets, remove links, remove punctuation\n",
    "    # and remove words containing numbers.\n",
    "    tweet = tweet.lower()\n",
    "    # Replace all URLs with 'URL'-- >''\n",
    "    tweet = re.sub(urlPattern,'',tweet)\n",
    "    # Remove emojis.\n",
    "    tweet = emojiPattern.sub(r'', tweet)\n",
    "    # Replace @USERNAME to 'USER'.-->''\n",
    "    tweet = re.sub(userPattern,'', tweet)        \n",
    "    # Replace all non alphabets.\n",
    "    tweet = re.sub(alphaPattern, \" \", tweet)\n",
    "    # Replace 3 or more consecutive letters by 2 letter.\n",
    "    tweet = re.sub(sequencePattern, seqReplacePattern, tweet)\n",
    "    # Remove words containing only numbers\n",
    "    tweet = re.sub(r'\\b\\d+\\b', '', tweet)\n",
    "    # Replace rt --> ''\n",
    "    tweet = re.sub(word_to_remove,'', tweet)   \n",
    "    \n",
    "    tokenizer = nltk.tokenize.RegexpTokenizer(r'\\w+')\n",
    "    tokenized_text = tokenizer.tokenize(tweet)\n",
    "    # Combined text \n",
    "    combined_text = ' '.join(tokenized_text)\n",
    "    return combined_text\n"
   ]
  },
  {
   "cell_type": "code",
   "execution_count": 7,
   "metadata": {},
   "outputs": [
    {
     "data": {
      "text/html": [
       "<div>\n",
       "<style scoped>\n",
       "    .dataframe tbody tr th:only-of-type {\n",
       "        vertical-align: middle;\n",
       "    }\n",
       "\n",
       "    .dataframe tbody tr th {\n",
       "        vertical-align: top;\n",
       "    }\n",
       "\n",
       "    .dataframe thead th {\n",
       "        text-align: right;\n",
       "    }\n",
       "</style>\n",
       "<table border=\"1\" class=\"dataframe\">\n",
       "  <thead>\n",
       "    <tr style=\"text-align: right;\">\n",
       "      <th></th>\n",
       "      <th>id</th>\n",
       "      <th>count</th>\n",
       "      <th>hate_speech</th>\n",
       "      <th>offensive_language</th>\n",
       "      <th>neither</th>\n",
       "      <th>class</th>\n",
       "      <th>tweet</th>\n",
       "      <th>sentiment</th>\n",
       "      <th>clean_tweet</th>\n",
       "      <th>Num_words_text</th>\n",
       "    </tr>\n",
       "  </thead>\n",
       "  <tbody>\n",
       "    <tr>\n",
       "      <th>0</th>\n",
       "      <td>0</td>\n",
       "      <td>3</td>\n",
       "      <td>0</td>\n",
       "      <td>0</td>\n",
       "      <td>3</td>\n",
       "      <td>2</td>\n",
       "      <td>!!! RT @mayasolovely: As a woman you shouldn't...</td>\n",
       "      <td>neither</td>\n",
       "      <td>as a woman you shouldn t complain about cleani...</td>\n",
       "      <td>23</td>\n",
       "    </tr>\n",
       "    <tr>\n",
       "      <th>1</th>\n",
       "      <td>1</td>\n",
       "      <td>3</td>\n",
       "      <td>0</td>\n",
       "      <td>3</td>\n",
       "      <td>0</td>\n",
       "      <td>1</td>\n",
       "      <td>!!!!! RT @mleew17: boy dats cold...tyga dwn ba...</td>\n",
       "      <td>offensive language</td>\n",
       "      <td>boy dats cold tyga dwn bad for cuffin dat hoe ...</td>\n",
       "      <td>14</td>\n",
       "    </tr>\n",
       "    <tr>\n",
       "      <th>2</th>\n",
       "      <td>2</td>\n",
       "      <td>3</td>\n",
       "      <td>0</td>\n",
       "      <td>3</td>\n",
       "      <td>0</td>\n",
       "      <td>1</td>\n",
       "      <td>!!!!!!! RT @UrKindOfBrand Dawg!!!! RT @80sbaby...</td>\n",
       "      <td>offensive language</td>\n",
       "      <td>dawg you ever fuck a bitch and she sta to cry ...</td>\n",
       "      <td>16</td>\n",
       "    </tr>\n",
       "    <tr>\n",
       "      <th>3</th>\n",
       "      <td>3</td>\n",
       "      <td>3</td>\n",
       "      <td>0</td>\n",
       "      <td>2</td>\n",
       "      <td>1</td>\n",
       "      <td>1</td>\n",
       "      <td>!!!!!!!!! RT @C_G_Anderson: @viva_based she lo...</td>\n",
       "      <td>offensive language</td>\n",
       "      <td>she look like a tranny</td>\n",
       "      <td>5</td>\n",
       "    </tr>\n",
       "    <tr>\n",
       "      <th>4</th>\n",
       "      <td>4</td>\n",
       "      <td>6</td>\n",
       "      <td>0</td>\n",
       "      <td>6</td>\n",
       "      <td>0</td>\n",
       "      <td>1</td>\n",
       "      <td>!!!!!!!!!!!!! RT @ShenikaRoberts: The shit you...</td>\n",
       "      <td>offensive language</td>\n",
       "      <td>the shit you hear about me might be true or it...</td>\n",
       "      <td>22</td>\n",
       "    </tr>\n",
       "  </tbody>\n",
       "</table>\n",
       "</div>"
      ],
      "text/plain": [
       "   id  count  hate_speech  offensive_language  neither  class  \\\n",
       "0   0      3            0                   0        3      2   \n",
       "1   1      3            0                   3        0      1   \n",
       "2   2      3            0                   3        0      1   \n",
       "3   3      3            0                   2        1      1   \n",
       "4   4      6            0                   6        0      1   \n",
       "\n",
       "                                               tweet           sentiment  \\\n",
       "0  !!! RT @mayasolovely: As a woman you shouldn't...             neither   \n",
       "1  !!!!! RT @mleew17: boy dats cold...tyga dwn ba...  offensive language   \n",
       "2  !!!!!!! RT @UrKindOfBrand Dawg!!!! RT @80sbaby...  offensive language   \n",
       "3  !!!!!!!!! RT @C_G_Anderson: @viva_based she lo...  offensive language   \n",
       "4  !!!!!!!!!!!!! RT @ShenikaRoberts: The shit you...  offensive language   \n",
       "\n",
       "                                         clean_tweet  Num_words_text  \n",
       "0  as a woman you shouldn t complain about cleani...              23  \n",
       "1  boy dats cold tyga dwn bad for cuffin dat hoe ...              14  \n",
       "2  dawg you ever fuck a bitch and she sta to cry ...              16  \n",
       "3                             she look like a tranny               5  \n",
       "4  the shit you hear about me might be true or it...              22  "
      ]
     },
     "metadata": {},
     "output_type": "display_data"
    }
   ],
   "source": [
    "# preprocess train dataset\n",
    "data['clean_tweet'] = data['tweet'].apply(text_preprocessing)\n",
    "data['Num_words_text'] = data['clean_tweet'].apply(lambda x:len(str(x).split())) \n",
    "# Afficher les premières lignes pour vérifier\n",
    "display(data.head())"
   ]
  },
  {
   "cell_type": "code",
   "execution_count": 8,
   "metadata": {},
   "outputs": [
    {
     "data": {
      "text/html": [
       "<div>\n",
       "<style scoped>\n",
       "    .dataframe tbody tr th:only-of-type {\n",
       "        vertical-align: middle;\n",
       "    }\n",
       "\n",
       "    .dataframe tbody tr th {\n",
       "        vertical-align: top;\n",
       "    }\n",
       "\n",
       "    .dataframe thead th {\n",
       "        text-align: right;\n",
       "    }\n",
       "</style>\n",
       "<table border=\"1\" class=\"dataframe\">\n",
       "  <thead>\n",
       "    <tr style=\"text-align: right;\">\n",
       "      <th></th>\n",
       "      <th>class</th>\n",
       "      <th>sentiment</th>\n",
       "      <th>clean_tweet</th>\n",
       "    </tr>\n",
       "  </thead>\n",
       "  <tbody>\n",
       "    <tr>\n",
       "      <th>0</th>\n",
       "      <td>2</td>\n",
       "      <td>neither</td>\n",
       "      <td>as a woman you shouldn t complain about cleani...</td>\n",
       "    </tr>\n",
       "    <tr>\n",
       "      <th>1</th>\n",
       "      <td>1</td>\n",
       "      <td>offensive language</td>\n",
       "      <td>boy dats cold tyga dwn bad for cuffin dat hoe ...</td>\n",
       "    </tr>\n",
       "    <tr>\n",
       "      <th>2</th>\n",
       "      <td>1</td>\n",
       "      <td>offensive language</td>\n",
       "      <td>dawg you ever fuck a bitch and she sta to cry ...</td>\n",
       "    </tr>\n",
       "    <tr>\n",
       "      <th>3</th>\n",
       "      <td>1</td>\n",
       "      <td>offensive language</td>\n",
       "      <td>she look like a tranny</td>\n",
       "    </tr>\n",
       "    <tr>\n",
       "      <th>4</th>\n",
       "      <td>1</td>\n",
       "      <td>offensive language</td>\n",
       "      <td>the shit you hear about me might be true or it...</td>\n",
       "    </tr>\n",
       "  </tbody>\n",
       "</table>\n",
       "</div>"
      ],
      "text/plain": [
       "   class           sentiment  \\\n",
       "0      2             neither   \n",
       "1      1  offensive language   \n",
       "2      1  offensive language   \n",
       "3      1  offensive language   \n",
       "4      1  offensive language   \n",
       "\n",
       "                                         clean_tweet  \n",
       "0  as a woman you shouldn t complain about cleani...  \n",
       "1  boy dats cold tyga dwn bad for cuffin dat hoe ...  \n",
       "2  dawg you ever fuck a bitch and she sta to cry ...  \n",
       "3                             she look like a tranny  \n",
       "4  the shit you hear about me might be true or it...  "
      ]
     },
     "metadata": {},
     "output_type": "display_data"
    }
   ],
   "source": [
    "# Liste des colonnes à supprimer\n",
    "columns_to_drop = ['id', 'count', 'hate_speech', 'offensive_language', 'neither', 'Num_words_text','tweet']\n",
    "\n",
    "# Supprimer les colonnes spécifiées\n",
    "data.drop(columns=columns_to_drop, inplace=True)\n",
    "\n",
    "# Afficher les premières lignes pour vérifier\n",
    "display(data.head())"
   ]
  },
  {
   "cell_type": "code",
   "execution_count": 9,
   "metadata": {},
   "outputs": [
    {
     "name": "stdout",
     "output_type": "stream",
     "text": [
      "Train Data:\n",
      "Dimensions of Train Data: (18587, 3)\n"
     ]
    },
    {
     "data": {
      "text/html": [
       "<div>\n",
       "<style scoped>\n",
       "    .dataframe tbody tr th:only-of-type {\n",
       "        vertical-align: middle;\n",
       "    }\n",
       "\n",
       "    .dataframe tbody tr th {\n",
       "        vertical-align: top;\n",
       "    }\n",
       "\n",
       "    .dataframe thead th {\n",
       "        text-align: right;\n",
       "    }\n",
       "</style>\n",
       "<table border=\"1\" class=\"dataframe\">\n",
       "  <thead>\n",
       "    <tr style=\"text-align: right;\">\n",
       "      <th></th>\n",
       "      <th>class</th>\n",
       "      <th>sentiment</th>\n",
       "      <th>clean_tweet</th>\n",
       "    </tr>\n",
       "  </thead>\n",
       "  <tbody>\n",
       "    <tr>\n",
       "      <th>0</th>\n",
       "      <td>1</td>\n",
       "      <td>offensive language</td>\n",
       "      <td>smfh boy you sound just like them hoes idk why...</td>\n",
       "    </tr>\n",
       "    <tr>\n",
       "      <th>1</th>\n",
       "      <td>1</td>\n",
       "      <td>offensive language</td>\n",
       "      <td>uh oh control yo bitch if you don t want her i...</td>\n",
       "    </tr>\n",
       "    <tr>\n",
       "      <th>2</th>\n",
       "      <td>1</td>\n",
       "      <td>offensive language</td>\n",
       "      <td>destroying a team that talked trash before the...</td>\n",
       "    </tr>\n",
       "    <tr>\n",
       "      <th>3</th>\n",
       "      <td>1</td>\n",
       "      <td>offensive language</td>\n",
       "      <td>be a pussy as in cat</td>\n",
       "    </tr>\n",
       "    <tr>\n",
       "      <th>4</th>\n",
       "      <td>2</td>\n",
       "      <td>neither</td>\n",
       "      <td>alabama is overrated this yr the last weeks ha...</td>\n",
       "    </tr>\n",
       "  </tbody>\n",
       "</table>\n",
       "</div>"
      ],
      "text/plain": [
       "   class           sentiment  \\\n",
       "0      1  offensive language   \n",
       "1      1  offensive language   \n",
       "2      1  offensive language   \n",
       "3      1  offensive language   \n",
       "4      2             neither   \n",
       "\n",
       "                                         clean_tweet  \n",
       "0  smfh boy you sound just like them hoes idk why...  \n",
       "1  uh oh control yo bitch if you don t want her i...  \n",
       "2  destroying a team that talked trash before the...  \n",
       "3                               be a pussy as in cat  \n",
       "4  alabama is overrated this yr the last weeks ha...  "
      ]
     },
     "metadata": {},
     "output_type": "display_data"
    },
    {
     "name": "stdout",
     "output_type": "stream",
     "text": [
      "\n",
      "Test Data:\n",
      "Dimensions of Test Data: (6196, 3)\n"
     ]
    },
    {
     "data": {
      "text/html": [
       "<div>\n",
       "<style scoped>\n",
       "    .dataframe tbody tr th:only-of-type {\n",
       "        vertical-align: middle;\n",
       "    }\n",
       "\n",
       "    .dataframe tbody tr th {\n",
       "        vertical-align: top;\n",
       "    }\n",
       "\n",
       "    .dataframe thead th {\n",
       "        text-align: right;\n",
       "    }\n",
       "</style>\n",
       "<table border=\"1\" class=\"dataframe\">\n",
       "  <thead>\n",
       "    <tr style=\"text-align: right;\">\n",
       "      <th></th>\n",
       "      <th>class</th>\n",
       "      <th>sentiment</th>\n",
       "      <th>clean_tweet</th>\n",
       "    </tr>\n",
       "  </thead>\n",
       "  <tbody>\n",
       "    <tr>\n",
       "      <th>0</th>\n",
       "      <td>1</td>\n",
       "      <td>offensive language</td>\n",
       "      <td>dr gero made android to destroy da world das s...</td>\n",
       "    </tr>\n",
       "    <tr>\n",
       "      <th>1</th>\n",
       "      <td>1</td>\n",
       "      <td>offensive language</td>\n",
       "      <td>a bitch can t resist a nugga with a fresh cut ...</td>\n",
       "    </tr>\n",
       "    <tr>\n",
       "      <th>2</th>\n",
       "      <td>1</td>\n",
       "      <td>offensive language</td>\n",
       "      <td>you a bitch dennis</td>\n",
       "    </tr>\n",
       "    <tr>\n",
       "      <th>3</th>\n",
       "      <td>1</td>\n",
       "      <td>offensive language</td>\n",
       "      <td>you a hoe if you like gettin drunk</td>\n",
       "    </tr>\n",
       "    <tr>\n",
       "      <th>4</th>\n",
       "      <td>1</td>\n",
       "      <td>offensive language</td>\n",
       "      <td>it s gotten to the point where i literally don...</td>\n",
       "    </tr>\n",
       "  </tbody>\n",
       "</table>\n",
       "</div>"
      ],
      "text/plain": [
       "   class           sentiment  \\\n",
       "0      1  offensive language   \n",
       "1      1  offensive language   \n",
       "2      1  offensive language   \n",
       "3      1  offensive language   \n",
       "4      1  offensive language   \n",
       "\n",
       "                                         clean_tweet  \n",
       "0  dr gero made android to destroy da world das s...  \n",
       "1  a bitch can t resist a nugga with a fresh cut ...  \n",
       "2                                 you a bitch dennis  \n",
       "3                 you a hoe if you like gettin drunk  \n",
       "4  it s gotten to the point where i literally don...  "
      ]
     },
     "metadata": {},
     "output_type": "display_data"
    }
   ],
   "source": [
    "# Définir le seuil de test\n",
    "threshold_test = 0.25\n",
    "\n",
    "# Mélanger aléatoirement les données\n",
    "data_shuffled = data.sample(frac=1, random_state=42).reset_index(drop=True)\n",
    "\n",
    "# Diviser les données en ensembles de formation et de test\n",
    "train_data, test_data = train_test_split(data_shuffled, test_size=threshold_test, random_state=42)\n",
    "\n",
    "# Réinitialiser les index\n",
    "train_data.reset_index(drop=True, inplace=True)\n",
    "test_data.reset_index(drop=True, inplace=True)\n",
    "\n",
    "# Afficher les premières lignes des ensembles de formation et de test pour vérification\n",
    "print(\"Train Data:\")\n",
    "print(f\"Dimensions of Train Data: {train_data.shape}\")\n",
    "display(train_data.head())\n",
    "\n",
    "print(\"\\nTest Data:\")\n",
    "print(f\"Dimensions of Test Data: {test_data.shape}\")\n",
    "display(test_data.head())"
   ]
  },
  {
   "cell_type": "code",
   "execution_count": 10,
   "metadata": {
    "scrolled": true
   },
   "outputs": [
    {
     "name": "stdout",
     "output_type": "stream",
     "text": [
      "================== Train Data ================\n"
     ]
    },
    {
     "data": {
      "text/html": [
       "<div>\n",
       "<style scoped>\n",
       "    .dataframe tbody tr th:only-of-type {\n",
       "        vertical-align: middle;\n",
       "    }\n",
       "\n",
       "    .dataframe tbody tr th {\n",
       "        vertical-align: top;\n",
       "    }\n",
       "\n",
       "    .dataframe thead th {\n",
       "        text-align: right;\n",
       "    }\n",
       "</style>\n",
       "<table border=\"1\" class=\"dataframe\">\n",
       "  <thead>\n",
       "    <tr style=\"text-align: right;\">\n",
       "      <th></th>\n",
       "      <th>sentiment</th>\n",
       "      <th>count</th>\n",
       "    </tr>\n",
       "  </thead>\n",
       "  <tbody>\n",
       "    <tr>\n",
       "      <th>0</th>\n",
       "      <td>offensive language</td>\n",
       "      <td>14393</td>\n",
       "    </tr>\n",
       "    <tr>\n",
       "      <th>1</th>\n",
       "      <td>neither</td>\n",
       "      <td>3103</td>\n",
       "    </tr>\n",
       "    <tr>\n",
       "      <th>2</th>\n",
       "      <td>hate speech</td>\n",
       "      <td>1091</td>\n",
       "    </tr>\n",
       "  </tbody>\n",
       "</table>\n",
       "</div>"
      ],
      "text/plain": [
       "            sentiment  count\n",
       "0  offensive language  14393\n",
       "1             neither   3103\n",
       "2         hate speech   1091"
      ]
     },
     "metadata": {},
     "output_type": "display_data"
    },
    {
     "name": "stdout",
     "output_type": "stream",
     "text": [
      "Dimensions of Train Data : (6196, 3)\n",
      "=============================================\n",
      "================== Test Data ================\n"
     ]
    },
    {
     "data": {
      "text/html": [
       "<div>\n",
       "<style scoped>\n",
       "    .dataframe tbody tr th:only-of-type {\n",
       "        vertical-align: middle;\n",
       "    }\n",
       "\n",
       "    .dataframe tbody tr th {\n",
       "        vertical-align: top;\n",
       "    }\n",
       "\n",
       "    .dataframe thead th {\n",
       "        text-align: right;\n",
       "    }\n",
       "</style>\n",
       "<table border=\"1\" class=\"dataframe\">\n",
       "  <thead>\n",
       "    <tr style=\"text-align: right;\">\n",
       "      <th></th>\n",
       "      <th>sentiment</th>\n",
       "      <th>count</th>\n",
       "    </tr>\n",
       "  </thead>\n",
       "  <tbody>\n",
       "    <tr>\n",
       "      <th>0</th>\n",
       "      <td>offensive language</td>\n",
       "      <td>4797</td>\n",
       "    </tr>\n",
       "    <tr>\n",
       "      <th>1</th>\n",
       "      <td>neither</td>\n",
       "      <td>1060</td>\n",
       "    </tr>\n",
       "    <tr>\n",
       "      <th>2</th>\n",
       "      <td>hate speech</td>\n",
       "      <td>339</td>\n",
       "    </tr>\n",
       "  </tbody>\n",
       "</table>\n",
       "</div>"
      ],
      "text/plain": [
       "            sentiment  count\n",
       "0  offensive language   4797\n",
       "1             neither   1060\n",
       "2         hate speech    339"
      ]
     },
     "metadata": {},
     "output_type": "display_data"
    },
    {
     "name": "stdout",
     "output_type": "stream",
     "text": [
      "Dimensions of Test Data : (6196, 3)\n",
      "=============================================\n"
     ]
    }
   ],
   "source": [
    "def print_class_proportions(data, dataset_name):\n",
    "    print(f'================== {dataset_name} ================')\n",
    "    display(data['sentiment'].value_counts().reset_index())\n",
    "    print(f\"Dimensions of {dataset_name} : {test_data.shape}\")\n",
    "    print('=============================================')\n",
    "\n",
    "# Utilisation de la fonction pour les données d'entraînement\n",
    "print_class_proportions(train_data, \"Train Data\")\n",
    "\n",
    "# Utilisation de la fonction pour les données de test\n",
    "print_class_proportions(test_data, \"Test Data\")"
   ]
  },
  {
   "cell_type": "code",
   "execution_count": 11,
   "metadata": {},
   "outputs": [],
   "source": [
    "def split_train_test_data(X_original, y_original, test_size=0.12, random_state=None):\n",
    "    # Divise les données en ensembles d'entraînement et de test avec stratification et mélange\n",
    "    X_train, X_valid, y_train, y_valid = train_test_split(X_original, y_original, test_size=test_size, \n",
    "                                                        stratify=y_original, shuffle=True, random_state=random_state)\n",
    "    \n",
    "    return X_train, X_valid, y_train, y_valid\n",
    "\n",
    "def print_dataset_info(X_train, X_valid, y_train, y_valid):\n",
    "    # Print the dimensions of X_train, X_test, y_train, y_test\n",
    "    print(\"\")\n",
    "    print(f\"Dimensions of X_train: {X_train.shape}\")\n",
    "    print(f\"Dimensions of X_valid: {X_valid.shape}\")\n",
    "    print(f\"Dimensions of y_train: {y_train.shape}\")\n",
    "    print(f\"Dimensions of y_valid: {y_valid.shape}\")\n",
    "    print(\"\")\n",
    "\n",
    "    # Print the number of unique classes in y_train and y_test\n",
    "    num_classes_train = len(np.unique(y_train))\n",
    "    num_classes_test = len(np.unique(y_valid))\n",
    "    print(f\"Number of unique classes in y_train: {num_classes_train}\")\n",
    "    print(f\"Number of unique classes in y_valid: {num_classes_test}\")\n",
    "\n",
    "    print(\"\")\n",
    "\n",
    "    # Print the number of instances per class in y_train and y_test\n",
    "    for class_label in np.unique(y_train):\n",
    "        instances_train = np.sum(y_train == class_label)\n",
    "        instances_test = np.sum(y_valid == class_label)\n",
    "        print(f\"Class {class_label}: Train instances - {instances_train}, Test instances - {instances_test}\")\n"
   ]
  },
  {
   "cell_type": "code",
   "execution_count": 12,
   "metadata": {},
   "outputs": [
    {
     "name": "stdout",
     "output_type": "stream",
     "text": [
      "\n",
      "Dimensions of X_train: (14869,)\n",
      "Dimensions of X_valid: (3718,)\n",
      "Dimensions of y_train: (14869,)\n",
      "Dimensions of y_valid: (3718,)\n",
      "\n",
      "Number of unique classes in y_train: 3\n",
      "Number of unique classes in y_valid: 3\n",
      "\n",
      "Class 0: Train instances - 873, Test instances - 218\n",
      "Class 1: Train instances - 11514, Test instances - 2879\n",
      "Class 2: Train instances - 2482, Test instances - 621\n"
     ]
    }
   ],
   "source": [
    "# Setting threshold values for evaluation and test datasets\n",
    "threshold_test = 0.20\n",
    "\n",
    "# Assuming 'sentiment' is the column you want to predict\n",
    "X = train_data['clean_tweet']\n",
    "y = train_data['class']\n",
    "\n",
    "# Diviser les données en ensembles d'entraînement et de test\n",
    "X_train, X_valid, y_train, y_valid = split_train_test_data(X, y, test_size=threshold_test, random_state=424)\n",
    "\n",
    "# Vérifier les dimensions des ensembles d'entraînement et de test\n",
    "print_dataset_info(X_train, X_valid, y_train, y_valid)"
   ]
  },
  {
   "cell_type": "code",
   "execution_count": 13,
   "metadata": {},
   "outputs": [],
   "source": [
    "# Convertir les DataFrames en listes\n",
    "X_train, X_valid = X_train.values.tolist(), X_valid.values.tolist()\n",
    "y_train, y_valid = y_train.values.tolist(), y_valid.values.tolist()"
   ]
  },
  {
   "cell_type": "code",
   "execution_count": null,
   "metadata": {},
   "outputs": [],
   "source": []
  },
  {
   "cell_type": "code",
   "execution_count": null,
   "metadata": {},
   "outputs": [],
   "source": []
  },
  {
   "cell_type": "code",
   "execution_count": 14,
   "metadata": {},
   "outputs": [
    {
     "data": {
      "text/plain": [
       "143"
      ]
     },
     "execution_count": 14,
     "metadata": {},
     "output_type": "execute_result"
    }
   ],
   "source": [
    "max([len(x) for x in train_data['clean_tweet'].values.tolist()])"
   ]
  },
  {
   "cell_type": "code",
   "execution_count": 15,
   "metadata": {},
   "outputs": [
    {
     "data": {
      "text/plain": [
       "141"
      ]
     },
     "execution_count": 15,
     "metadata": {},
     "output_type": "execute_result"
    }
   ],
   "source": [
    "max([len(x) for x in test_data['clean_tweet'].values.tolist()])"
   ]
  },
  {
   "cell_type": "code",
   "execution_count": 16,
   "metadata": {},
   "outputs": [
    {
     "name": "stdout",
     "output_type": "stream",
     "text": [
      "Taille des données d'entraînement : 14869\n",
      "Distribution des classes dans les données d'entraînement : Counter({1: 11514, 2: 2482, 0: 873})\n",
      "Taille des données de validation : 3718\n",
      "Distribution des classes dans les données de validation : Counter({1: 2879, 2: 621, 0: 218})\n",
      "Taille des données de test : 6196\n",
      "Distribution des classes dans les données de test : Counter({1: 4797, 2: 1060, 0: 339})\n"
     ]
    }
   ],
   "source": [
    "from collections import Counter\n",
    "import numpy as np\n",
    "import tensorflow as tf\n",
    "from tensorflow.keras.preprocessing.text import Tokenizer\n",
    "from tensorflow.keras.preprocessing.sequence import pad_sequences\n",
    "\n",
    "\n",
    "\n",
    "# Nombre de mots à considérer\n",
    "num_words = 50000\n",
    "\n",
    "# Créer un tokenizer et l'adapter sur les données d'entraînement\n",
    "tokenizer = Tokenizer(num_words=num_words, oov_token=\"unk\")\n",
    "tokenizer.fit_on_texts(X_train)\n",
    "\n",
    "# Convertir les phrases en séquences de nombres\n",
    "x_train = tokenizer.texts_to_sequences(X_train)\n",
    "x_valid = tokenizer.texts_to_sequences(X_valid)\n",
    "x_test =  tokenizer.texts_to_sequences(test_data['clean_tweet'].values.tolist())\n",
    "\n",
    "# Taille maximale des séquences (ajuster selon les besoins)\n",
    "maxlen = 144 # max([len(x) for x in train_data['clean_tweet'].values.tolist()])\n",
    "\n",
    "# Remplissage des séquences pour qu'elles aient toutes la même longueur\n",
    "x_train = pad_sequences(x_train, padding='post', maxlen=maxlen)\n",
    "x_valid = pad_sequences(x_valid, padding='post', maxlen=maxlen)\n",
    "x_test = pad_sequences(x_test, padding='post', maxlen=maxlen)\n",
    "\n",
    "# Conversion des étiquettes en tableaux numpy\n",
    "train_labels = np.asarray(y_train)\n",
    "valid_labels = np.asarray(y_valid)\n",
    "test_labels = np.asarray(test_data['class'].tolist())\n",
    "\n",
    "# Affichage de la taille et de la distribution des classes dans les données d'entraînement\n",
    "print('Taille des données d\\'entraînement :', len(x_train))\n",
    "print('Distribution des classes dans les données d\\'entraînement :', Counter(train_labels))\n",
    "\n",
    "# Affichage de la taille et de la distribution des classes dans les données de validation\n",
    "print('Taille des données de validation :', len(x_valid))\n",
    "print('Distribution des classes dans les données de validation :', Counter(valid_labels))\n",
    "\n",
    "# Affichage de la taille et de la distribution des classes dans les données de test\n",
    "print('Taille des données de test :', len(x_test))\n",
    "print('Distribution des classes dans les données de test :', Counter(test_labels))\n",
    "\n",
    "# Préparation des datasets TensorFlow\n",
    "train_ds = tf.data.Dataset.from_tensor_slices((x_train, train_labels))\n",
    "valid_ds = tf.data.Dataset.from_tensor_slices((x_valid, valid_labels))\n",
    "test_ds = tf.data.Dataset.from_tensor_slices((x_test, test_labels))\n"
   ]
  },
  {
   "cell_type": "code",
   "execution_count": 17,
   "metadata": {},
   "outputs": [
    {
     "name": "stdout",
     "output_type": "stream",
     "text": [
      "========== Train dataset ===============\n",
      "Valeur : tf.Tensor(\n",
      "[   2  113  194   27 2246    7  480   65  176    2  113   34  687   65\n",
      "   17   28   11  913    0    0    0    0    0    0    0    0    0    0\n",
      "    0    0    0    0    0    0    0    0    0    0    0    0    0    0\n",
      "    0    0    0    0    0    0    0    0    0    0    0    0    0    0\n",
      "    0    0    0    0    0    0    0    0    0    0    0    0    0    0\n",
      "    0    0    0    0    0    0    0    0    0    0    0    0    0    0\n",
      "    0    0    0    0    0    0    0    0    0    0    0    0    0    0\n",
      "    0    0    0    0    0    0    0    0    0    0    0    0    0    0\n",
      "    0    0    0    0    0    0    0    0    0    0    0    0    0    0\n",
      "    0    0    0    0    0    0    0    0    0    0    0    0    0    0\n",
      "    0    0    0    0], shape=(144,), dtype=int32)\n",
      "Label : tf.Tensor(1, shape=(), dtype=int64)\n",
      "\n",
      "========== Validation dataset ========\n",
      "Valeur : tf.Tensor(\n",
      "[ 151  972  107   59 1184  100   78    3 1110  148 1110   19  197   14\n",
      " 1355   18   83    0    0    0    0    0    0    0    0    0    0    0\n",
      "    0    0    0    0    0    0    0    0    0    0    0    0    0    0\n",
      "    0    0    0    0    0    0    0    0    0    0    0    0    0    0\n",
      "    0    0    0    0    0    0    0    0    0    0    0    0    0    0\n",
      "    0    0    0    0    0    0    0    0    0    0    0    0    0    0\n",
      "    0    0    0    0    0    0    0    0    0    0    0    0    0    0\n",
      "    0    0    0    0    0    0    0    0    0    0    0    0    0    0\n",
      "    0    0    0    0    0    0    0    0    0    0    0    0    0    0\n",
      "    0    0    0    0    0    0    0    0    0    0    0    0    0    0\n",
      "    0    0    0    0], shape=(144,), dtype=int32)\n",
      "Label : tf.Tensor(2, shape=(), dtype=int64)\n",
      "\n",
      "========== Test dataset ==============\n",
      "Valeur : tf.Tensor(\n",
      "[2054 4923  215  744    7 4830  142  349 1911  746    4   49   43    2\n",
      "  121 3222    3  110  744    7 2574  746 1041    0    0    0    0    0\n",
      "    0    0    0    0    0    0    0    0    0    0    0    0    0    0\n",
      "    0    0    0    0    0    0    0    0    0    0    0    0    0    0\n",
      "    0    0    0    0    0    0    0    0    0    0    0    0    0    0\n",
      "    0    0    0    0    0    0    0    0    0    0    0    0    0    0\n",
      "    0    0    0    0    0    0    0    0    0    0    0    0    0    0\n",
      "    0    0    0    0    0    0    0    0    0    0    0    0    0    0\n",
      "    0    0    0    0    0    0    0    0    0    0    0    0    0    0\n",
      "    0    0    0    0    0    0    0    0    0    0    0    0    0    0\n",
      "    0    0    0    0], shape=(144,), dtype=int32)\n",
      "Label : tf.Tensor(1, shape=(), dtype=int64)\n"
     ]
    }
   ],
   "source": [
    "# Affichage des valeurs et des labels dans les datasets\n",
    "count = 0\n",
    "print('========== Train dataset ===============')\n",
    "for value, label in train_ds:\n",
    "    count += 1\n",
    "    print(\"Valeur :\", value)\n",
    "    print(\"Label :\", label)\n",
    "    if count == 1:\n",
    "        break\n",
    "\n",
    "count = 0\n",
    "print('\\n========== Validation dataset ========')\n",
    "for value, label in valid_ds:\n",
    "    count += 1\n",
    "    print(\"Valeur :\", value)\n",
    "    print(\"Label :\", label)\n",
    "    if count == 1:\n",
    "        break\n",
    "\n",
    "count = 0\n",
    "print('\\n========== Test dataset ==============')\n",
    "for value, label in test_ds:\n",
    "    count += 1\n",
    "    print(\"Valeur :\", value)\n",
    "    print(\"Label :\", label)\n",
    "    if count == 1:\n",
    "        break"
   ]
  },
  {
   "cell_type": "code",
   "execution_count": 18,
   "metadata": {},
   "outputs": [],
   "source": [
    "import tensorflow as tf\n",
    "from tensorflow.keras.models import Sequential\n",
    "from tensorflow.keras.layers import Embedding, Bidirectional, LSTM, Dense, Dropout, Flatten\n",
    "from tensorflow.keras.preprocessing.text import Tokenizer\n",
    "from tensorflow.keras.preprocessing.sequence import pad_sequences\n",
    "from tensorflow.keras.metrics import BinaryAccuracy\n",
    "from tensorflow.keras.optimizers import legacy\n",
    "from tensorflow.keras.losses import BinaryCrossentropy\n",
    "from tensorflow.keras import regularizers\n",
    "from sklearn.metrics import accuracy_score, classification_report"
   ]
  },
  {
   "cell_type": "code",
   "execution_count": 200,
   "metadata": {
    "scrolled": true
   },
   "outputs": [
    {
     "name": "stdout",
     "output_type": "stream",
     "text": [
      "Model: \"LSTM_hate_Tweet_classifier\"\n",
      "_________________________________________________________________\n",
      " Layer (type)                Output Shape              Param #   \n",
      "=================================================================\n",
      " embedding_14 (Embedding)    (None, 144, 16)           800016    \n",
      "                                                                 \n",
      " dropout_49 (Dropout)        (None, 144, 16)           0         \n",
      "                                                                 \n",
      " lstm_14 (LSTM)              (None, 144, 16)           2112      \n",
      "                                                                 \n",
      " flatten_14 (Flatten)        (None, 2304)              0         \n",
      "                                                                 \n",
      " dense_49 (Dense)            (None, 512)               1180160   \n",
      "                                                                 \n",
      " dropout_50 (Dropout)        (None, 512)               0         \n",
      "                                                                 \n",
      " dense_50 (Dense)            (None, 8)                 4104      \n",
      "                                                                 \n",
      " dropout_51 (Dropout)        (None, 8)                 0         \n",
      "                                                                 \n",
      " dense_51 (Dense)            (None, 1)                 9         \n",
      "                                                                 \n",
      "=================================================================\n",
      "Total params: 1986401 (7.58 MB)\n",
      "Trainable params: 1986401 (7.58 MB)\n",
      "Non-trainable params: 0 (0.00 Byte)\n",
      "_________________________________________________________________\n"
     ]
    }
   ],
   "source": [
    "# Modèle de Deep Learning avec TensorFlow\n",
    "max_features = 50000\n",
    "embedding_dim = 16\n",
    "sequence_length = maxlen\n",
    "\n",
    "# Création du modèle avec un nom spécifié\n",
    "model = Sequential(name=\"LSTM_hate_Tweet_classifier\")\n",
    "model.add(Embedding(max_features + 1, embedding_dim, input_length=sequence_length,embeddings_regularizer=regularizers.l2(0.005))) \n",
    "model.add(Dropout(0.4))\n",
    "\n",
    "model.add(LSTM(embedding_dim, dropout=0.2, recurrent_dropout=0.2, return_sequences=True,kernel_regularizer=regularizers.l2(0.005), \n",
    "               bias_regularizer=regularizers.l2(0.005)))\n",
    "\n",
    "model.add(Flatten())\n",
    "\n",
    "model.add(Dense(512, activation='relu',kernel_regularizer=regularizers.l2(0.001),bias_regularizer=regularizers.l2(0.001),))\n",
    "model.add(Dropout(0.4))\n",
    "\n",
    "model.add(Dense(8, activation='relu',kernel_regularizer=regularizers.l2(0.001),bias_regularizer=regularizers.l2(0.001),))\n",
    "model.add(Dropout(0.4))\n",
    "\n",
    "model.add(Dense(1, activation='sigmoid'))\n",
    "\n",
    "model.summary()\n",
    "\n",
    "# Utilisation de l'optimiseur legacy pour Macs M1/M2\n",
    "model.compile(loss=BinaryCrossentropy(), optimizer=legacy.Adam(1e-3), metrics=[BinaryAccuracy(name='accuracy')])"
   ]
  },
  {
   "cell_type": "code",
   "execution_count": 202,
   "metadata": {},
   "outputs": [
    {
     "name": "stdout",
     "output_type": "stream",
     "text": [
      "Model: \"LSTM_hate_Tweet_classifier\"\n",
      "_________________________________________________________________\n",
      " Layer (type)                Output Shape              Param #   \n",
      "=================================================================\n",
      " embedding_15 (Embedding)    (None, 144, 16)           800016    \n",
      "                                                                 \n",
      " dropout_52 (Dropout)        (None, 144, 16)           0         \n",
      "                                                                 \n",
      " bidirectional_8 (Bidirecti  (None, 144, 32)           4224      \n",
      " onal)                                                           \n",
      "                                                                 \n",
      " flatten_15 (Flatten)        (None, 4608)              0         \n",
      "                                                                 \n",
      " dense_52 (Dense)            (None, 512)               2359808   \n",
      "                                                                 \n",
      " dense_53 (Dense)            (None, 250)               128250    \n",
      "                                                                 \n",
      " dense_54 (Dense)            (None, 8)                 2008      \n",
      "                                                                 \n",
      " dense_55 (Dense)            (None, 1)                 9         \n",
      "                                                                 \n",
      "=================================================================\n",
      "Total params: 3294315 (12.57 MB)\n",
      "Trainable params: 3294315 (12.57 MB)\n",
      "Non-trainable params: 0 (0.00 Byte)\n",
      "_________________________________________________________________\n"
     ]
    }
   ],
   "source": [
    "# Modèle de Deep Learning avec TensorFlow\n",
    "max_features = 50000\n",
    "embedding_dim = 16\n",
    "sequence_length = maxlen\n",
    "\n",
    "# Création du modèle avec un nom spécifié\n",
    "model = Sequential(name=\"LSTM_hate_Tweet_classifier\")\n",
    "model.add(Embedding(max_features + 1, embedding_dim, input_length=sequence_length,embeddings_regularizer=regularizers.l2(0.005))) \n",
    "model.add(Dropout(0.04))\n",
    "\n",
    "model.add(Bidirectional(LSTM(embedding_dim, dropout=0.2, recurrent_dropout=0.2, return_sequences=True,kernel_regularizer=regularizers.l2(0.005),\n",
    "                             bias_regularizer=regularizers.l2(0.005))))\n",
    "\n",
    "model.add(Flatten())\n",
    "\n",
    "model.add(Dense(512, activation='tanh',kernel_regularizer=regularizers.l2(0.001),bias_regularizer=regularizers.l2(0.001),))\n",
    "# model.add(Dropout(0.6))\n",
    "\n",
    "model.add(Dense(250, activation='tanh',kernel_regularizer=regularizers.l2(0.001),bias_regularizer=regularizers.l2(0.001),))\n",
    "# model.add(Dropout(0.6))\n",
    "\n",
    "model.add(Dense(8, activation='tanh',kernel_regularizer=regularizers.l2(0.001),bias_regularizer=regularizers.l2(0.001),))\n",
    "# model.add(Dropout(0.001))\n",
    "\n",
    "model.add(Dense(1, activation='sigmoid'))\n",
    "\n",
    "model.summary()\n",
    "\n",
    "# Utilisation de l'optimiseur legacy pour Macs M1/M2\n",
    "model.compile(loss=BinaryCrossentropy(), optimizer=legacy.Adam(1e-3), metrics=[BinaryAccuracy(name='accuracy')])"
   ]
  },
  {
   "cell_type": "code",
   "execution_count": 33,
   "metadata": {},
   "outputs": [
    {
     "name": "stdout",
     "output_type": "stream",
     "text": [
      "Model: \"LSTM_for_hate_Tweet_classifier\"\n",
      "_________________________________________________________________\n",
      " Layer (type)                Output Shape              Param #   \n",
      "=================================================================\n",
      " embedding_6 (Embedding)     (None, 144, 16)           800016    \n",
      "                                                                 \n",
      " bidirectional_6 (Bidirecti  (None, 144, 300)          200400    \n",
      " onal)                                                           \n",
      "                                                                 \n",
      " flatten_4 (Flatten)         (None, 43200)             0         \n",
      "                                                                 \n",
      " dense_19 (Dense)            (None, 64)                2764864   \n",
      "                                                                 \n",
      " dense_20 (Dense)            (None, 20)                1300      \n",
      "                                                                 \n",
      " dense_21 (Dense)            (None, 3)                 63        \n",
      "                                                                 \n",
      "=================================================================\n",
      "Total params: 3766643 (14.37 MB)\n",
      "Trainable params: 3766643 (14.37 MB)\n",
      "Non-trainable params: 0 (0.00 Byte)\n",
      "_________________________________________________________________\n"
     ]
    }
   ],
   "source": [
    "# Modèle de Deep Learning avec TensorFlow\n",
    "from tensorflow.keras.models import Sequential\n",
    "from tensorflow.keras.layers import Embedding, Bidirectional, LSTM, Dense\n",
    "from tensorflow.keras import regularizers\n",
    "\n",
    "# Définition des paramètres du modèle\n",
    "max_features = 50000\n",
    "embedding_dim = 16\n",
    "sequence_length = maxlen\n",
    "\n",
    "# Arguments pour la couche Embedding\n",
    "embedding_args = {\n",
    "    'input_dim': max_features + 1,      # Taille du vocabulaire\n",
    "    'output_dim': embedding_dim,        # Dimension de l'embedding\n",
    "    'embeddings_regularizer': regularizers.l2(0.005),\n",
    "    'input_length': sequence_length    # Longueur de la séquence d'entrée\n",
    "}\n",
    "\n",
    "# Création du modèle avec un nom spécifié\n",
    "model = Sequential(name=\"LSTM_for_hate_Tweet_classifier\")\n",
    "model.add(Embedding(**embedding_args))  # Utilisation des arguments de la couche Embedding\n",
    "model.add(Bidirectional(LSTM(units=150,dropout=0.2,recurrent_dropout=0.2, \n",
    "                             return_sequences=True,kernel_regularizer=regularizers.l2(0.005),\n",
    "                             bias_regularizer=regularizers.l2(0.005))))\n",
    "model.add(Flatten())\n",
    "model.add(Dense(64, activation='relu',kernel_regularizer=regularizers.l2(0.001),bias_regularizer=regularizers.l2(0.001),))\n",
    "\n",
    "model.add(Dense(20, activation='relu',kernel_regularizer=regularizers.l2(0.001),bias_regularizer=regularizers.l2(0.001),))\n",
    "model.add(Dense(units=3, activation='softmax'))  # 3 classes à prédire\n",
    "\n",
    "# Compilation du modèle\n",
    "model.compile(optimizer='adam', loss='sparse_categorical_crossentropy', metrics=['accuracy'])\n",
    "\n",
    "# Affichage du résumé du modèle\n",
    "model.summary()\n"
   ]
  },
  {
   "cell_type": "code",
   "execution_count": 34,
   "metadata": {},
   "outputs": [
    {
     "name": "stdout",
     "output_type": "stream",
     "text": [
      "Epoch 1/10\n"
     ]
    },
    {
     "name": "stdout",
     "output_type": "stream",
     "text": [
      "15/15 [==============================] - 49s 3s/step - loss: 4.8321 - accuracy: 0.7333 - val_loss: 3.6228 - val_accuracy: 0.7743\n",
      "Epoch 2/10\n",
      "15/15 [==============================] - 44s 3s/step - loss: 3.0735 - accuracy: 0.7744 - val_loss: 2.5905 - val_accuracy: 0.7743\n",
      "Epoch 3/10\n",
      "15/15 [==============================] - 212s 15s/step - loss: 2.3773 - accuracy: 0.7744 - val_loss: 2.1734 - val_accuracy: 0.7743\n",
      "Epoch 4/10\n",
      "15/15 [==============================] - 51s 3s/step - loss: 2.0315 - accuracy: 0.8211 - val_loss: 1.9260 - val_accuracy: 0.8529\n",
      "Epoch 5/10\n",
      "15/15 [==============================] - 49s 3s/step - loss: 1.8481 - accuracy: 0.8761 - val_loss: 1.8084 - val_accuracy: 0.8741\n",
      "Epoch 6/10\n",
      "15/15 [==============================] - 1328s 95s/step - loss: 1.7361 - accuracy: 0.8976 - val_loss: 1.7494 - val_accuracy: 0.8731\n",
      "Epoch 7/10\n",
      "15/15 [==============================] - 48s 3s/step - loss: 1.6409 - accuracy: 0.9133 - val_loss: 1.6798 - val_accuracy: 0.8849\n",
      "Epoch 8/10\n",
      "15/15 [==============================] - 47s 3s/step - loss: 1.5714 - accuracy: 0.9167 - val_loss: 1.6352 - val_accuracy: 0.8849\n",
      "Epoch 9/10\n",
      "15/15 [==============================] - 355s 25s/step - loss: 1.5144 - accuracy: 0.9237 - val_loss: 1.6882 - val_accuracy: 0.8771\n",
      "Epoch 10/10\n",
      "15/15 [==============================] - 187s 13s/step - loss: 1.4852 - accuracy: 0.9194 - val_loss: 1.5625 - val_accuracy: 0.8846\n"
     ]
    }
   ],
   "source": [
    "epochs = 10\n",
    "# Fit the model using the train and test datasets.\n",
    "history = model.fit(train_ds.shuffle(5000).batch(1024), epochs= epochs, validation_data=valid_ds.batch(1024), verbose=1)"
   ]
  },
  {
   "cell_type": "code",
   "execution_count": 35,
   "metadata": {},
   "outputs": [
    {
     "data": {
      "image/png": "[encoded data removed]",
      "text/plain": [
       "<Figure size 1500x500 with 2 Axes>"
      ]
     },
     "metadata": {},
     "output_type": "display_data"
    }
   ],
   "source": [
    "# Get accuracy and loss history\n",
    "accuracy = history.history['accuracy']\n",
    "val_accuracy = history.history['val_accuracy']\n",
    "loss = history.history['loss']\n",
    "val_loss = history.history['val_loss']\n",
    "epochs = range(1, len(accuracy) + 1)\n",
    "\n",
    "# Plot accuracy and loss in subplots\n",
    "fig, axs = plt.subplots(1, 2, figsize=(15, 5))\n",
    "\n",
    "# Plot accuracy\n",
    "axs[0].plot(epochs, accuracy, 'b', label='Training accuracy')\n",
    "axs[0].plot(epochs, val_accuracy, 'r', label='Validation accuracy')\n",
    "axs[0].set_title('Training and Validation Accuracy')\n",
    "axs[0].set_xlabel('Epochs')\n",
    "axs[0].set_ylabel('Accuracy')\n",
    "axs[0].legend()\n",
    "\n",
    "# Plot loss\n",
    "axs[1].plot(epochs, loss, 'b', label='Training loss')\n",
    "axs[1].plot(epochs, val_loss, 'r', label='Validation loss')\n",
    "axs[1].set_title('Training and Validation Loss')\n",
    "axs[1].set_xlabel('Epochs')\n",
    "axs[1].set_ylabel('Loss')\n",
    "axs[1].legend()\n",
    "\n",
    "plt.tight_layout()\n",
    "plt.show()\n"
   ]
  },
  {
   "cell_type": "code",
   "execution_count": null,
   "metadata": {},
   "outputs": [],
   "source": []
  },
  {
   "cell_type": "code",
   "execution_count": null,
   "metadata": {},
   "outputs": [],
   "source": []
  },
  {
   "cell_type": "code",
   "execution_count": 208,
   "metadata": {},
   "outputs": [
    {
     "name": "stdout",
     "output_type": "stream",
     "text": [
      "Model: \"sequential_4\"\n",
      "_________________________________________________________________\n",
      " Layer (type)                Output Shape              Param #   \n",
      "=================================================================\n",
      " embedding_18 (Embedding)    (None, 144, 16)           800000    \n",
      "                                                                 \n",
      " bidirectional_11 (Bidirect  (None, 128)               41472     \n",
      " ional)                                                          \n",
      "                                                                 \n",
      " dense_58 (Dense)            (None, 3)                 387       \n",
      "                                                                 \n",
      "=================================================================\n",
      "Total params: 841859 (3.21 MB)\n",
      "Trainable params: 841859 (3.21 MB)\n",
      "Non-trainable params: 0 (0.00 Byte)\n",
      "_________________________________________________________________\n"
     ]
    }
   ],
   "source": [
    "# Build a Sequential model with bidirectional LSTM\n",
    "\n",
    "# Création du modèle avec un nom spécifié\n",
    "model = Sequential(name=\"LSTM_for_hate_Tweet_classifier\")\n",
    "model.add(Embedding(input_dim=max_features, output_dim=16, input_length=sequence_length))\n",
    "model.add(Bidirectional(LSTM(units=64)))\n",
    "model.add(Dense(units=3, activation='softmax'))\n",
    "\n",
    "# Compile the model\n",
    "model.compile(optimizer='adam', loss='sparse_categorical_crossentropy', metrics=['accuracy'])\n",
    "\n",
    "# Display the model summary\n",
    "model.summary()"
   ]
  },
  {
   "cell_type": "code",
   "execution_count": 209,
   "metadata": {},
   "outputs": [
    {
     "name": "stdout",
     "output_type": "stream",
     "text": [
      "Epoch 1/10\n"
     ]
    },
    {
     "name": "stdout",
     "output_type": "stream",
     "text": [
      "15/15 [==============================] - 15s 826ms/step - loss: 0.9168 - accuracy: 0.7744 - val_loss: 0.7185 - val_accuracy: 0.7743\n",
      "Epoch 2/10\n",
      "15/15 [==============================] - 10s 680ms/step - loss: 0.6747 - accuracy: 0.7744 - val_loss: 0.6594 - val_accuracy: 0.7743\n",
      "Epoch 3/10\n",
      "15/15 [==============================] - 10s 683ms/step - loss: 0.6559 - accuracy: 0.7744 - val_loss: 0.6533 - val_accuracy: 0.7743\n",
      "Epoch 4/10\n",
      "15/15 [==============================] - 11s 716ms/step - loss: 0.6425 - accuracy: 0.7744 - val_loss: 0.6378 - val_accuracy: 0.7743\n",
      "Epoch 5/10\n",
      "15/15 [==============================] - 10s 689ms/step - loss: 0.6103 - accuracy: 0.7744 - val_loss: 0.6001 - val_accuracy: 0.7743\n",
      "Epoch 6/10\n",
      "15/15 [==============================] - 10s 681ms/step - loss: 0.5471 - accuracy: 0.7823 - val_loss: 0.5066 - val_accuracy: 0.7969\n",
      "Epoch 7/10\n",
      "15/15 [==============================] - 10s 689ms/step - loss: 0.4466 - accuracy: 0.8374 - val_loss: 0.4816 - val_accuracy: 0.8133\n",
      "Epoch 8/10\n",
      "15/15 [==============================] - 10s 683ms/step - loss: 0.3742 - accuracy: 0.8780 - val_loss: 0.5154 - val_accuracy: 0.8176\n",
      "Epoch 9/10\n",
      "15/15 [==============================] - 10s 684ms/step - loss: 0.3254 - accuracy: 0.8975 - val_loss: 0.4313 - val_accuracy: 0.8499\n",
      "Epoch 10/10\n",
      "15/15 [==============================] - 11s 755ms/step - loss: 0.2894 - accuracy: 0.9078 - val_loss: 0.4388 - val_accuracy: 0.8513\n"
     ]
    }
   ],
   "source": [
    "epochs = 10\n",
    "# Fit the model using the train and test datasets.\n",
    "history = model.fit(train_ds.shuffle(5000).batch(1024), epochs= epochs, validation_data=valid_ds.batch(1024), verbose=1)"
   ]
  },
  {
   "cell_type": "code",
   "execution_count": 214,
   "metadata": {},
   "outputs": [
    {
     "data": {
      "image/png": "[encoded data removed]",
      "text/plain": [
       "<Figure size 1500x500 with 2 Axes>"
      ]
     },
     "metadata": {},
     "output_type": "display_data"
    }
   ],
   "source": [
    "# Get accuracy and loss history\n",
    "accuracy = history.history['accuracy']\n",
    "val_accuracy = history.history['val_accuracy']\n",
    "loss = history.history['loss']\n",
    "val_loss = history.history['val_loss']\n",
    "epochs = range(1, len(accuracy) + 1)\n",
    "\n",
    "# Plot accuracy and loss in subplots\n",
    "fig, axs = plt.subplots(1, 2, figsize=(15, 5))\n",
    "\n",
    "# Plot accuracy\n",
    "axs[0].plot(epochs, accuracy, 'b', label='Training accuracy')\n",
    "axs[0].plot(epochs, val_accuracy, 'r', label='Validation accuracy')\n",
    "axs[0].set_title('Training and Validation Accuracy')\n",
    "axs[0].set_xlabel('Epochs')\n",
    "axs[0].set_ylabel('Accuracy')\n",
    "axs[0].legend()\n",
    "\n",
    "# Plot loss\n",
    "axs[1].plot(epochs, loss, 'b', label='Training loss')\n",
    "axs[1].plot(epochs, val_loss, 'r', label='Validation loss')\n",
    "axs[1].set_title('Training and Validation Loss')\n",
    "axs[1].set_xlabel('Epochs')\n",
    "axs[1].set_ylabel('Loss')\n",
    "axs[1].legend()\n",
    "\n",
    "plt.tight_layout()\n",
    "plt.show()\n"
   ]
  },
  {
   "cell_type": "code",
   "execution_count": 14,
   "metadata": {},
   "outputs": [
    {
     "name": "stdout",
     "output_type": "stream",
     "text": [
      "[[1.4268547e-01]\n",
      " [9.7826517e-01]\n",
      " [5.8067143e-03]\n",
      " [2.8772950e-03]\n",
      " [3.6336260e-05]\n",
      " [1.2026131e-03]\n",
      " [9.8628443e-01]\n",
      " [4.0706992e-04]\n",
      " [1.5170112e-01]\n",
      " [3.8477778e-04]]\n"
     ]
    }
   ],
   "source": [
    "#make predictions on validation dataset\n",
    "valid_predict= model.predict(x_valid)\n",
    "print(valid_predict[:10])"
   ]
  },
  {
   "cell_type": "code",
   "execution_count": 15,
   "metadata": {},
   "outputs": [],
   "source": [
    "#model's metrics on test dataset\n",
    "x_test  = np.array( tokenizer.texts_to_sequences(test_data['tweet'].tolist()) )\n",
    "x_test = pad_sequences(x_test, padding='post', maxlen=maxlen)\n",
    "\n",
    "\n",
    "#Generate predictions for all samples\n",
    "predictions = model.predict(x_test)"
   ]
  },
  {
   "cell_type": "code",
   "execution_count": 16,
   "metadata": {},
   "outputs": [
    {
     "data": {
      "image/png": "[encoded data removed]",
      "text/plain": [
       "<Figure size 1080x360 with 2 Axes>"
      ]
     },
     "metadata": {
      "needs_background": "light"
     },
     "output_type": "display_data"
    }
   ],
   "source": [
    "#plot predictions\n",
    "f, (ax1, ax2) = plt.subplots(1, 2,figsize=(15,5))\n",
    "ax1.scatter(predictions,range(0,len(predictions)),alpha=0.2)\n",
    "ax2=sns.distplot(predictions)"
   ]
  },
  {
   "cell_type": "markdown",
   "metadata": {},
   "source": [
    "#### A receiver operating characteristic curve, or ROC curve, is a graphical plot that illustrates the diagnostic ability of a binary classifier system as its discrimination threshold is varied"
   ]
  },
  {
   "cell_type": "code",
   "execution_count": 17,
   "metadata": {
    "scrolled": true
   },
   "outputs": [
    {
     "data": {
      "text/plain": [
       "<matplotlib.legend.Legend at 0x1d686f2aac8>"
      ]
     },
     "execution_count": 17,
     "metadata": {},
     "output_type": "execute_result"
    },
    {
     "data": {
      "image/png": "[encoded data removed]",
      "text/plain": [
       "<Figure size 504x504 with 1 Axes>"
      ]
     },
     "metadata": {
      "needs_background": "light"
     },
     "output_type": "display_data"
    }
   ],
   "source": [
    "#decide the cutoff for classifying the predicted probabilities as 1 or 0\n",
    "def plot_roc(name, labels, predictions, **kwargs):\n",
    "    fp, tp, thresholds = sklearn.metrics.roc_curve(labels, predictions)\n",
    "    plt.plot(fp, tp, label=name, linewidth=2, **kwargs)\n",
    "    plt.xlabel('False positives Rate')\n",
    "    plt.ylabel('True positives Rate')\n",
    "    plt.xlim([-0.03, 1.0])\n",
    "    plt.ylim([0.0, 1.03])\n",
    "    plt.grid(True)\n",
    "    thresholdsLength = len(thresholds)\n",
    "    thresholds_every = 1000\n",
    "    colorMap = plt.get_cmap('jet', thresholdsLength)\n",
    "    for i in range(0, thresholdsLength, thresholds_every):\n",
    "        threshold_value_with_max_four_decimals = str(thresholds[i])[:5]\n",
    "        plt.text(fp[i] - 0.03, tp[i] + 0.001, threshold_value_with_max_four_decimals, fontdict={'size': 15}, color=colorMap(i/thresholdsLength));\n",
    "\n",
    "    ax = plt.gca()\n",
    "    ax.set_aspect('equal')\n",
    "\n",
    "mpl.rcParams['figure.figsize'] = (7,7)\n",
    "\n",
    "colors = plt.rcParams['axes.prop_cycle'].by_key()['color']\n",
    "plot_roc(\"Valid Baseline\", valid_labels, valid_predict, color=colors[0], linestyle='--')\n",
    "plt.legend(loc='lower right')"
   ]
  },
  {
   "cell_type": "code",
   "execution_count": 18,
   "metadata": {},
   "outputs": [
    {
     "name": "stdout",
     "output_type": "stream",
     "text": [
      "              precision    recall  f1-score   support\n",
      "\n",
      "           0       0.96      0.99      0.98      5959\n",
      "           1       0.95      0.82      0.88      1331\n",
      "\n",
      "    accuracy                           0.96      7290\n",
      "   macro avg       0.95      0.91      0.93      7290\n",
      "weighted avg       0.96      0.96      0.96      7290\n",
      "\n"
     ]
    }
   ],
   "source": [
    "cutoff=0.86\n",
    "test_data['pred_sentiment']= predictions\n",
    "test_data['pred_sentiment'] = np.where((test_data.pred_sentiment >= cutoff),1,test_data.pred_sentiment)\n",
    "test_data['pred_sentiment'] = np.where((test_data.pred_sentiment < cutoff),0,test_data.pred_sentiment)\n",
    "\n",
    "labels = [0, 1]\n",
    "print(classification_report(test_data['label'].tolist(),test_data['pred_sentiment'].tolist(),labels=labels))"
   ]
  },
  {
   "cell_type": "markdown",
   "metadata": {},
   "source": [
    "## TESTING MODEL ON THE TEST DATASET PROVIDED"
   ]
  },
  {
   "cell_type": "code",
   "execution_count": 19,
   "metadata": {},
   "outputs": [
    {
     "data": {
      "text/plain": [
       "array([[  209,     5,     1, ...,     0,     0,     0],\n",
       "       [    2,    26,    68, ...,     0,     0,     0],\n",
       "       [28298,     0,     0, ...,     0,     0,     0],\n",
       "       ...,\n",
       "       [   14,   502,     2, ...,     0,     0,     0],\n",
       "       [    2,  2802,   605, ...,     0,     0,     0],\n",
       "       [    2,  1659,     4, ...,     0,     0,     0]])"
      ]
     },
     "metadata": {},
     "output_type": "display_data"
    },
    {
     "data": {
      "text/plain": [
       "array([[10037,     1,  4900, ...,     0,     0,     0],\n",
       "       [    2,    65, 10688, ...,     0,     0,     0],\n",
       "       [  449,   761,   773, ...,     0,     0,     0],\n",
       "       ...,\n",
       "       [    9,    34,   356, ...,     0,     0,     0],\n",
       "       [  364,   712,   126, ...,     0,     0,     0],\n",
       "       [  258,  1042,  7030, ...,     0,     0,     0]])"
      ]
     },
     "metadata": {},
     "output_type": "display_data"
    }
   ],
   "source": [
    "final_test=pd.read_csv(\"test.csv\")\n",
    "\n",
    "ftest=final_test.copy()\n",
    "ftest.drop(columns=['id'],axis=1,inplace=True)\n",
    "\n",
    "ftest['tweet'] = ftest['tweet'].apply(remove_emoji)\n",
    "ftest['tweet'] = ftest['tweet'].apply(clean_text)\n",
    "\n",
    "f_test  = np.array( tokenizer.texts_to_sequences(ftest['tweet'].tolist()) )\n",
    "f_test = pad_sequences(f_test, padding='post', maxlen=maxlen)\n",
    "\n",
    "display((x_test))\n",
    "display((f_test))"
   ]
  },
  {
   "cell_type": "code",
   "execution_count": 20,
   "metadata": {},
   "outputs": [],
   "source": [
    "#predict on actual test data\n",
    "predictions = model.predict(f_test)"
   ]
  },
  {
   "cell_type": "code",
   "execution_count": 21,
   "metadata": {},
   "outputs": [
    {
     "data": {
      "image/png": "[encoded data removed]",
      "text/plain": [
       "<Figure size 1080x360 with 2 Axes>"
      ]
     },
     "metadata": {
      "needs_background": "light"
     },
     "output_type": "display_data"
    }
   ],
   "source": [
    "#plot predictions\n",
    "f, (ax1, ax2) = plt.subplots(1, 2,figsize=(15,5))\n",
    "ax1.scatter(predictions,ftest.index,alpha=0.2)\n",
    "ax2=sns.distplot(predictions)"
   ]
  },
  {
   "cell_type": "code",
   "execution_count": 22,
   "metadata": {},
   "outputs": [
    {
     "data": {
      "text/html": [
       "<div>\n",
       "<style scoped>\n",
       "    .dataframe tbody tr th:only-of-type {\n",
       "        vertical-align: middle;\n",
       "    }\n",
       "\n",
       "    .dataframe tbody tr th {\n",
       "        vertical-align: top;\n",
       "    }\n",
       "\n",
       "    .dataframe thead th {\n",
       "        text-align: right;\n",
       "    }\n",
       "</style>\n",
       "<table border=\"1\" class=\"dataframe\">\n",
       "  <thead>\n",
       "    <tr style=\"text-align: right;\">\n",
       "      <th></th>\n",
       "      <th>tweet</th>\n",
       "      <th>pred_sentiment</th>\n",
       "    </tr>\n",
       "  </thead>\n",
       "  <tbody>\n",
       "    <tr>\n",
       "      <th>1</th>\n",
       "      <td>user white supremacists want everyone birdsâ movie hereâs</td>\n",
       "      <td>1.0</td>\n",
       "    </tr>\n",
       "    <tr>\n",
       "      <th>19</th>\n",
       "      <td>thought factory neutrality right wing fascism politics media brexit trump leadership</td>\n",
       "      <td>1.0</td>\n",
       "    </tr>\n",
       "    <tr>\n",
       "      <th>26</th>\n",
       "      <td>chick gets fucked hottest naked lady</td>\n",
       "      <td>1.0</td>\n",
       "    </tr>\n",
       "    <tr>\n",
       "      <th>33</th>\n",
       "      <td>suppo taiji fisherman bullying racism tweet4taiji thecove seashepherd</td>\n",
       "      <td>1.0</td>\n",
       "    </tr>\n",
       "    <tr>\n",
       "      <th>42</th>\n",
       "      <td>user user trumps invested billions into saudi empowers people funding isis trumpsahypocrite</td>\n",
       "      <td>1.0</td>\n",
       "    </tr>\n",
       "    <tr>\n",
       "      <th>...</th>\n",
       "      <td>...</td>\n",
       "      <td>...</td>\n",
       "    </tr>\n",
       "    <tr>\n",
       "      <th>17148</th>\n",
       "      <td>grew fucked upð¤ fucked upð¥ believing better place fucking upð© âï¸</td>\n",
       "      <td>1.0</td>\n",
       "    </tr>\n",
       "    <tr>\n",
       "      <th>17176</th>\n",
       "      <td>user user most racist ever</td>\n",
       "      <td>1.0</td>\n",
       "    </tr>\n",
       "    <tr>\n",
       "      <th>17188</th>\n",
       "      <td>black professor demonizes proposes nazi style confiscation white assets like 1930s germany breaking</td>\n",
       "      <td>1.0</td>\n",
       "    </tr>\n",
       "    <tr>\n",
       "      <th>17192</th>\n",
       "      <td>thought factory leftright polarisation trump uselections2016 leadership politics brexit</td>\n",
       "      <td>1.0</td>\n",
       "    </tr>\n",
       "    <tr>\n",
       "      <th>17197</th>\n",
       "      <td>fuck bitch pedophile hole sucker</td>\n",
       "      <td>1.0</td>\n",
       "    </tr>\n",
       "  </tbody>\n",
       "</table>\n",
       "<p>997 rows × 2 columns</p>\n",
       "</div>"
      ],
      "text/plain": [
       "                                                                                                     tweet  \\\n",
       "1                                            user white supremacists want everyone birdsâ movie hereâs   \n",
       "19                    thought factory neutrality right wing fascism politics media brexit trump leadership   \n",
       "26                                                                    chick gets fucked hottest naked lady   \n",
       "33                                   suppo taiji fisherman bullying racism tweet4taiji thecove seashepherd   \n",
       "42             user user trumps invested billions into saudi empowers people funding isis trumpsahypocrite   \n",
       "...                                                                                                    ...   \n",
       "17148                        grew fucked upð¤ fucked upð¥ believing better place fucking upð© âï¸   \n",
       "17176                                                                           user user most racist ever   \n",
       "17188  black professor demonizes proposes nazi style confiscation white assets like 1930s germany breaking   \n",
       "17192              thought factory leftright polarisation trump uselections2016 leadership politics brexit   \n",
       "17197                                                                     fuck bitch pedophile hole sucker   \n",
       "\n",
       "       pred_sentiment  \n",
       "1                 1.0  \n",
       "19                1.0  \n",
       "26                1.0  \n",
       "33                1.0  \n",
       "42                1.0  \n",
       "...               ...  \n",
       "17148             1.0  \n",
       "17176             1.0  \n",
       "17188             1.0  \n",
       "17192             1.0  \n",
       "17197             1.0  \n",
       "\n",
       "[997 rows x 2 columns]"
      ]
     },
     "execution_count": 22,
     "metadata": {},
     "output_type": "execute_result"
    }
   ],
   "source": [
    "#mapping prediction to 1 or 0\n",
    "ftest['pred_sentiment']= predictions\n",
    "ftest['pred_sentiment'] = np.where((ftest.pred_sentiment >= cutoff),1,ftest.pred_sentiment)\n",
    "ftest['pred_sentiment'] = np.where((ftest.pred_sentiment < cutoff),0,ftest.pred_sentiment)\n",
    "\n",
    "#processed tweets categorized as hate speech\n",
    "pd.set_option('display.max_colwidth', None)\n",
    "ftest[ftest['pred_sentiment']==1]"
   ]
  },
  {
   "cell_type": "code",
   "execution_count": 23,
   "metadata": {
    "scrolled": true
   },
   "outputs": [
    {
     "data": {
      "text/html": [
       "<div>\n",
       "<style scoped>\n",
       "    .dataframe tbody tr th:only-of-type {\n",
       "        vertical-align: middle;\n",
       "    }\n",
       "\n",
       "    .dataframe tbody tr th {\n",
       "        vertical-align: top;\n",
       "    }\n",
       "\n",
       "    .dataframe thead th {\n",
       "        text-align: right;\n",
       "    }\n",
       "</style>\n",
       "<table border=\"1\" class=\"dataframe\">\n",
       "  <thead>\n",
       "    <tr style=\"text-align: right;\">\n",
       "      <th></th>\n",
       "      <th>id</th>\n",
       "      <th>tweet</th>\n",
       "    </tr>\n",
       "  </thead>\n",
       "  <tbody>\n",
       "    <tr>\n",
       "      <th>1</th>\n",
       "      <td>31964</td>\n",
       "      <td>@user #white #supremacists want everyone to see the new â  #birdsâ #movie â and hereâs why</td>\n",
       "    </tr>\n",
       "    <tr>\n",
       "      <th>19</th>\n",
       "      <td>31982</td>\n",
       "      <td>thought factory: bbc neutrality on right wing fascism  #politics #media #blm #brexit #trump #leadership &amp;gt;3</td>\n",
       "    </tr>\n",
       "    <tr>\n",
       "      <th>26</th>\n",
       "      <td>31989</td>\n",
       "      <td>chick gets fucked hottest naked lady</td>\n",
       "    </tr>\n",
       "    <tr>\n",
       "      <th>33</th>\n",
       "      <td>31996</td>\n",
       "      <td>suppo the #taiji fisherman! no bullying! no racism! #tweet4taiji #thecove #seashepherd</td>\n",
       "    </tr>\n",
       "    <tr>\n",
       "      <th>42</th>\n",
       "      <td>32005</td>\n",
       "      <td>@user @user trumps invested billions into saudi. he empowers the people funding isis.   #trumpsahypocrite</td>\n",
       "    </tr>\n",
       "    <tr>\n",
       "      <th>...</th>\n",
       "      <td>...</td>\n",
       "      <td>...</td>\n",
       "    </tr>\n",
       "    <tr>\n",
       "      <th>17148</th>\n",
       "      <td>49111</td>\n",
       "      <td>we grew up fucked upð¤ its fucked upð¥ i'm believing you in a better place but it's fucking me upð©  Ã¨ âï¸</td>\n",
       "    </tr>\n",
       "    <tr>\n",
       "      <th>17176</th>\n",
       "      <td>49139</td>\n",
       "      <td>@user @user are the most racist pay ever!!!!!</td>\n",
       "    </tr>\n",
       "    <tr>\n",
       "      <th>17188</th>\n",
       "      <td>49151</td>\n",
       "      <td>black professor demonizes, proposes nazi style confiscation of \"white\" assets; like 1930's germany  #breaking</td>\n",
       "    </tr>\n",
       "    <tr>\n",
       "      <th>17192</th>\n",
       "      <td>49155</td>\n",
       "      <td>thought factory: left-right polarisation! #trump #uselections2016 #leadership #politics  #brexit #blm &amp;gt;3</td>\n",
       "    </tr>\n",
       "    <tr>\n",
       "      <th>17197</th>\n",
       "      <td>49160</td>\n",
       "      <td>fuck you bitch you pedophile ass hole #sucker</td>\n",
       "    </tr>\n",
       "  </tbody>\n",
       "</table>\n",
       "<p>997 rows × 2 columns</p>\n",
       "</div>"
      ],
      "text/plain": [
       "          id  \\\n",
       "1      31964   \n",
       "19     31982   \n",
       "26     31989   \n",
       "33     31996   \n",
       "42     32005   \n",
       "...      ...   \n",
       "17148  49111   \n",
       "17176  49139   \n",
       "17188  49151   \n",
       "17192  49155   \n",
       "17197  49160   \n",
       "\n",
       "                                                                                                                      tweet  \n",
       "1                      @user #white #supremacists want everyone to see the new â  #birdsâ #movie â and hereâs why    \n",
       "19           thought factory: bbc neutrality on right wing fascism  #politics #media #blm #brexit #trump #leadership &gt;3   \n",
       "26                                                                                    chick gets fucked hottest naked lady   \n",
       "33                                  suppo the #taiji fisherman! no bullying! no racism! #tweet4taiji #thecove #seashepherd   \n",
       "42                @user @user trumps invested billions into saudi. he empowers the people funding isis.   #trumpsahypocrite  \n",
       "...                                                                                                                     ...  \n",
       "17148  we grew up fucked upð¤ its fucked upð¥ i'm believing you in a better place but it's fucking me upð©  Ã¨ âï¸  \n",
       "17176                                                                        @user @user are the most racist pay ever!!!!!   \n",
       "17188        black professor demonizes, proposes nazi style confiscation of \"white\" assets; like 1930's germany  #breaking   \n",
       "17192          thought factory: left-right polarisation! #trump #uselections2016 #leadership #politics  #brexit #blm &gt;3   \n",
       "17197                                                                         fuck you bitch you pedophile ass hole #sucker  \n",
       "\n",
       "[997 rows x 2 columns]"
      ]
     },
     "execution_count": 23,
     "metadata": {},
     "output_type": "execute_result"
    }
   ],
   "source": [
    "#actual tweets categorized as hate speech\n",
    "final_test.iloc[ftest[ftest['pred_sentiment']==1].index]"
   ]
  },
  {
   "cell_type": "code",
   "execution_count": null,
   "metadata": {},
   "outputs": [],
   "source": []
  }
 ],
 "metadata": {
  "kernelspec": {
   "display_name": "Python 3",
   "language": "python",
   "name": "python3"
  },
  "language_info": {
   "codemirror_mode": {
    "name": "ipython",
    "version": 3
   },
   "file_extension": ".py",
   "mimetype": "text/x-python",
   "name": "python",
   "nbconvert_exporter": "python",
   "pygments_lexer": "ipython3",
   "version": "3.11.6"
  }
 },
 "nbformat": 4,
 "nbformat_minor": 4
}
